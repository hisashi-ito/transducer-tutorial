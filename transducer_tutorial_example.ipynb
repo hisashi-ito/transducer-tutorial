{
 "cells": [
  {
   "cell_type": "markdown",
   "metadata": {
    "colab_type": "text",
    "id": "view-in-github"
   },
   "source": [
    "<a href=\"https://colab.research.google.com/github/lorenlugosch/transducer-tutorial/blob/main/transducer_tutorial_example.ipynb\" target=\"_parent\"><img src=\"https://colab.research.google.com/assets/colab-badge.svg\" alt=\"Open In Colab\"/></a>"
   ]
  },
  {
   "cell_type": "markdown",
   "metadata": {
    "id": "BbwgR5UdNkkm"
   },
   "source": [
    "# Transducer implementation in PyTorch\n",
    "\n",
    "*by Loren Lugosch*\n"
   ]
  },
  {
   "cell_type": "markdown",
   "metadata": {
    "id": "yBlJNKsjTtaZ"
   },
   "source": [
    "\n",
    "In this notebook, we will implement a Transducer sequence-to-sequence model for inserting missing vowels into a sentence (\"Hll, Wrld\" --> \"Hello, World\")."
   ]
  },
  {
   "cell_type": "code",
   "execution_count": 3,
   "metadata": {
    "colab": {
     "base_uri": "https://localhost:8080/"
    },
    "id": "Q-iHU02C7fAj",
    "outputId": "6ce0dae6-5036-4fb4-fe33-45aceec263a6",
    "tags": []
   },
   "outputs": [
    {
     "name": "stdout",
     "output_type": "stream",
     "text": [
      "Requirement already satisfied: unidecode in /usr/local/lib/python3.8/dist-packages (1.3.6)\n",
      "--2023-05-01 13:56:57--  https://raw.githubusercontent.com/lorenlugosch/infer_missing_vowels/master/data/train/war_and_peace.txt\n",
      "raw.githubusercontent.com (raw.githubusercontent.com) をDNSに問いあわせています... 185.199.108.133, 185.199.109.133, 185.199.111.133, ...\n",
      "raw.githubusercontent.com (raw.githubusercontent.com)|185.199.108.133|:443 に接続しています... 接続しました。\n",
      "HTTP による接続要求を送信しました、応答を待っています... 200 OK\n",
      "長さ: 3196229 (3.0M) [text/plain]\n",
      "`war_and_peace.txt.2' に保存中\n",
      "\n",
      "war_and_peace.txt.2 100%[===================>]   3.05M  --.-KB/s    in 0.04s   \n",
      "\n",
      "2023-05-01 13:56:57 (72.3 MB/s) - `war_and_peace.txt.2' へ保存完了 [3196229/3196229]\n",
      "\n",
      "/home/jovyan/work\n"
     ]
    }
   ],
   "source": [
    "import torch\n",
    "import string\n",
    "import numpy as np\n",
    "import itertools\n",
    "from collections import Counter\n",
    "from tqdm import tqdm\n",
    "!pip install unidecode\n",
    "import unidecode\n",
    "\n",
    "# Some training data.\n",
    "# Poor Tolstoy, once again reduced to grist for the neural network mill!\n",
    "!wget https://raw.githubusercontent.com/lorenlugosch/infer_missing_vowels/master/data/train/war_and_peace.txt\n",
    "!pwd"
   ]
  },
  {
   "cell_type": "markdown",
   "metadata": {
    "id": "CTfRgwxmjv1B"
   },
   "source": [
    "# Building blocks\n",
    "\n",
    "First, we will define the encoder, predictor, and joiner using standard neural nets.\n",
    "\n",
    "<img src=\"https://lorenlugosch.github.io/images/transducer/transducer-model.png\" width=\"25%\">"
   ]
  },
  {
   "cell_type": "code",
   "execution_count": 4,
   "metadata": {
    "id": "B7mLFyUG7kJH",
    "tags": []
   },
   "outputs": [],
   "source": [
    "NULL_INDEX = 0\n",
    "\n",
    "encoder_dim = 1024\n",
    "predictor_dim = 1024\n",
    "joiner_dim = 1024"
   ]
  },
  {
   "cell_type": "markdown",
   "metadata": {
    "id": "MABMTjrGY4vz"
   },
   "source": [
    "The encoder is any network that can take as input a variable-length sequence: so, RNNs, CNNs, and self-attention/Transformer encoders will all work."
   ]
  },
  {
   "cell_type": "code",
   "execution_count": 5,
   "metadata": {
    "id": "KE7j2T5EY33-",
    "tags": []
   },
   "outputs": [],
   "source": [
    "class Encoder(torch.nn.Module):\n",
    "  def __init__(self, num_inputs):\n",
    "    super(Encoder, self).__init__()\n",
    "    self.embed = torch.nn.Embedding(num_inputs, encoder_dim)\n",
    "    self.rnn = torch.nn.GRU(input_size=encoder_dim, hidden_size=encoder_dim, num_layers=3, batch_first=True, bidirectional=True, dropout=0.1)\n",
    "    # rnn の出力が bidirectional=True なので 2xhidden_size の出力となるので２倍する\n",
    "    self.linear = torch.nn.Linear(encoder_dim*2, joiner_dim)\n",
    "\n",
    "  def forward(self, x):\n",
    "    out = x\n",
    "    out = self.embed(out)\n",
    "    out = self.rnn(out)[0]\n",
    "    out = self.linear(out)\n",
    "    return out"
   ]
  },
  {
   "cell_type": "markdown",
   "metadata": {
    "id": "BRknN6QRY9-g"
   },
   "source": [
    "The predictor is any _causal_ network (= can't look at the future): in other words, unidirectional RNNs, causal convolutions, or masked self-attention. "
   ]
  },
  {
   "cell_type": "code",
   "execution_count": 4,
   "metadata": {
    "id": "hPARF5LmY7-r"
   },
   "outputs": [],
   "source": [
    "class Predictor(torch.nn.Module):\n",
    "  def __init__(self, num_outputs):\n",
    "    super(Predictor, self).__init__()\n",
    "    self.embed = torch.nn.Embedding(num_outputs, predictor_dim)\n",
    "    self.rnn = torch.nn.GRUCell(input_size=predictor_dim, hidden_size=predictor_dim)\n",
    "    self.linear = torch.nn.Linear(predictor_dim, joiner_dim)\n",
    "    \n",
    "    self.initial_state = torch.nn.Parameter(torch.randn(predictor_dim))\n",
    "    self.start_symbol = NULL_INDEX # In the original paper, a vector of 0s is used; just using the null index instead is easier when using an Embedding layer.\n",
    "\n",
    "  def forward_one_step(self, input, previous_state):\n",
    "    embedding = self.embed(input)\n",
    "    state = self.rnn.forward(embedding, previous_state)\n",
    "    out = self.linear(state)\n",
    "    return out, state\n",
    "\n",
    "  def forward(self, y):\n",
    "    batch_size = y.shape[0]\n",
    "    U = y.shape[1]\n",
    "    outs = []\n",
    "    state = torch.stack([self.initial_state] * batch_size).to(y.device)\n",
    "    for u in range(U+1): # need U+1 to get null output for final timestep \n",
    "      if u == 0:\n",
    "        decoder_input = torch.tensor([self.start_symbol] * batch_size).to(y.device)\n",
    "      else:\n",
    "        decoder_input = y[:,u-1]\n",
    "      out, state = self.forward_one_step(decoder_input, state)\n",
    "      outs.append(out)\n",
    "    out = torch.stack(outs, dim=1)\n",
    "    return out"
   ]
  },
  {
   "cell_type": "markdown",
   "metadata": {
    "id": "ZHPZ3PATZEAW"
   },
   "source": [
    "The joiner is a feedforward network/MLP with one hidden layer applied independently to each $(t,u)$ index.\n",
    "\n",
    "(The linear part of the hidden layer is contained in the encoder and predictor, so we just do the nonlinearity here and then the output layer.)"
   ]
  },
  {
   "cell_type": "code",
   "execution_count": 5,
   "metadata": {
    "id": "Vlzca1orZDLa"
   },
   "outputs": [],
   "source": [
    "class Joiner(torch.nn.Module):\n",
    "  def __init__(self, num_outputs):\n",
    "    super(Joiner, self).__init__()\n",
    "    self.linear = torch.nn.Linear(joiner_dim, num_outputs)\n",
    "\n",
    "  def forward(self, encoder_out, predictor_out):\n",
    "    out = encoder_out + predictor_out\n",
    "    out = torch.nn.functional.relu(out)\n",
    "    out = self.linear(out)\n",
    "    return out"
   ]
  },
  {
   "cell_type": "markdown",
   "metadata": {
    "id": "a_-INbhSTApv"
   },
   "source": [
    "# Transducer model + loss function\n",
    "\n",
    "Using the encoder, predictor, and joiner, we will implement the Transducer model and its loss function.\n",
    "\n",
    "<img src=\"https://lorenlugosch.github.io/images/transducer/forward-messages.png\" width=\"25%\">"
   ]
  },
  {
   "cell_type": "markdown",
   "metadata": {
    "id": "bdcKwA_lkzxJ"
   },
   "source": [
    "We can use a simple PyTorch implementation of the loss function, relying on automatic differentiation to give us gradients."
   ]
  },
  {
   "cell_type": "code",
   "execution_count": 6,
   "metadata": {
    "id": "sYSagKi-gHM4"
   },
   "outputs": [],
   "source": [
    "class Transducer(torch.nn.Module):\n",
    "  def __init__(self, num_inputs, num_outputs):\n",
    "    super(Transducer, self).__init__()\n",
    "    self.encoder = Encoder(num_inputs)\n",
    "    self.predictor = Predictor(num_outputs)\n",
    "    self.joiner = Joiner(num_outputs)\n",
    "\n",
    "    if torch.cuda.is_available(): self.device = \"cuda:0\"\n",
    "    else: self.device = \"cpu\"\n",
    "    self.to(self.device)\n",
    "\n",
    "  def compute_forward_prob(self, joiner_out, T, U, y):\n",
    "    \"\"\"\n",
    "    joiner_out: tensor of shape (B, T_max, U_max+1, #labels)\n",
    "    T: list of input lengths\n",
    "    U: list of output lengths \n",
    "    y: label tensor (B, U_max+1)\n",
    "    \"\"\"\n",
    "    B = joiner_out.shape[0]\n",
    "    T_max = joiner_out.shape[1]\n",
    "    U_max = joiner_out.shape[2] - 1\n",
    "    log_alpha = torch.zeros(B, T_max, U_max+1).to(model.device)\n",
    "    for t in range(T_max):\n",
    "      for u in range(U_max+1):\n",
    "          if u == 0:\n",
    "            if t == 0:\n",
    "              log_alpha[:, t, u] = 0.\n",
    "\n",
    "            else: #t > 0\n",
    "              log_alpha[:, t, u] = log_alpha[:, t-1, u] + joiner_out[:, t-1, 0, NULL_INDEX] \n",
    "                  \n",
    "          else: #u > 0\n",
    "            if t == 0:\n",
    "              log_alpha[:, t, u] = log_alpha[:, t,u-1] + torch.gather(joiner_out[:, t, u-1], dim=1, index=y[:,u-1].view(-1,1) ).reshape(-1)\n",
    "            \n",
    "            else: #t > 0\n",
    "              log_alpha[:, t, u] = torch.logsumexp(torch.stack([\n",
    "                  log_alpha[:, t-1, u] + joiner_out[:, t-1, u, NULL_INDEX],\n",
    "                  log_alpha[:, t, u-1] + torch.gather(joiner_out[:, t, u-1], dim=1, index=y[:,u-1].view(-1,1) ).reshape(-1)\n",
    "              ]), dim=0)\n",
    "    \n",
    "    log_probs = []\n",
    "    for b in range(B):\n",
    "      log_prob = log_alpha[b, T[b]-1, U[b]] + joiner_out[b, T[b]-1, U[b], NULL_INDEX]\n",
    "      log_probs.append(log_prob)\n",
    "    log_probs = torch.stack(log_probs) \n",
    "    return log_prob\n",
    "\n",
    "  def compute_loss(self, x, y, T, U):\n",
    "    encoder_out = self.encoder.forward(x)\n",
    "    predictor_out = self.predictor.forward(y)\n",
    "    joiner_out = self.joiner.forward(encoder_out.unsqueeze(2), predictor_out.unsqueeze(1)).log_softmax(3)\n",
    "    loss = -self.compute_forward_prob(joiner_out, T, U, y).mean()\n",
    "    return loss"
   ]
  },
  {
   "cell_type": "markdown",
   "metadata": {
    "id": "IK0c2S2xaARd"
   },
   "source": [
    "Let's first verify that the forward algorithm actually correctly computes the sum (in log space, the [logsumexp](https://lorenlugosch.github.io/posts/2020/06/logsumexp/)) of all possible alignments, using a short input/output pair for which computing all possible alignments is feasible.\n",
    "\n",
    "<img src=\"https://lorenlugosch.github.io/images/transducer/cat-align-1.png\" width=\"25%\">"
   ]
  },
  {
   "cell_type": "code",
   "execution_count": 7,
   "metadata": {
    "id": "RWtkoXH6U8Pm"
   },
   "outputs": [],
   "source": [
    "def compute_single_alignment_prob(self, encoder_out, predictor_out, T, U, z, y):\n",
    "    \"\"\"\n",
    "    Computes the probability of one alignment, z.\n",
    "    \"\"\"\n",
    "    t = 0; u = 0\n",
    "    t_u_indices = []\n",
    "    y_expanded = []\n",
    "    for step in z:\n",
    "      t_u_indices.append((t,u))\n",
    "      if step == 0: # right (null)\n",
    "        y_expanded.append(NULL_INDEX)\n",
    "        t += 1\n",
    "      if step == 1: # down (label)\n",
    "        y_expanded.append(y[u])\n",
    "        u += 1\n",
    "    t_u_indices.append((T-1,U))\n",
    "    y_expanded.append(NULL_INDEX)\n",
    "\n",
    "    t_indices = [t for (t,u) in t_u_indices]\n",
    "    u_indices = [u for (t,u) in t_u_indices]\n",
    "    encoder_out_expanded = encoder_out[t_indices]\n",
    "    predictor_out_expanded = predictor_out[u_indices]\n",
    "    joiner_out = self.joiner.forward(encoder_out_expanded, predictor_out_expanded).log_softmax(1)\n",
    "    logprob = -torch.nn.functional.nll_loss(input=joiner_out, target=torch.tensor(y_expanded).long().to(self.device), reduction=\"sum\")\n",
    "    return logprob\n",
    "\n",
    "Transducer.compute_single_alignment_prob = compute_single_alignment_prob"
   ]
  },
  {
   "cell_type": "code",
   "execution_count": 8,
   "metadata": {
    "colab": {
     "base_uri": "https://localhost:8080/"
    },
    "id": "e8xzM0dZfea9",
    "outputId": "241648b8-5484-4220-d6a5-469bb05f5253"
   },
   "outputs": [
    {
     "name": "stdout",
     "output_type": "stream",
     "text": [
      "Loss computed by enumerating all possible alignments:  tensor(21.0155)\n",
      "Loss computed using the forward algorithm:  tensor(21.0155, device='cuda:0', grad_fn=<NegBackward>)\n"
     ]
    }
   ],
   "source": [
    "# Generate example inputs/outputs\n",
    "num_outputs = len(string.ascii_uppercase) + 1 # [null, A, B, ... Z]\n",
    "model = Transducer(1, num_outputs)\n",
    "y_letters = \"CAT\"\n",
    "y = torch.tensor([string.ascii_uppercase.index(l) + 1 for l in y_letters]).unsqueeze(0).to(model.device)\n",
    "T = torch.tensor([4]); U = torch.tensor([len(y_letters)]); B = 1\n",
    "\n",
    "encoder_out = torch.randn(B, T, joiner_dim).to(model.device)\n",
    "predictor_out = torch.randn(B, U+1, joiner_dim).to(model.device)\n",
    "joiner_out = model.joiner.forward(encoder_out.unsqueeze(2), predictor_out.unsqueeze(1)).log_softmax(3)\n",
    "\n",
    "#######################################################\n",
    "# Compute loss by enumerating all possible alignments #\n",
    "#######################################################\n",
    "all_permutations = list(itertools.permutations([0]*(T-1) + [1]*U))\n",
    "all_distinct_permutations = list(Counter(all_permutations).keys())\n",
    "alignment_probs = []\n",
    "for z in all_distinct_permutations:\n",
    "  alignment_prob = model.compute_single_alignment_prob(encoder_out[0], predictor_out[0], T.item(), U.item(), z, y[0])\n",
    "  alignment_probs.append(alignment_prob)\n",
    "loss_enumerate = -torch.tensor(alignment_probs).logsumexp(0)\n",
    "\n",
    "#######################################################\n",
    "# Compute loss using the forward algorithm            #\n",
    "#######################################################\n",
    "loss_forward = -model.compute_forward_prob(joiner_out, T, U, y)\n",
    "\n",
    "print(\"Loss computed by enumerating all possible alignments: \", loss_enumerate)\n",
    "print(\"Loss computed using the forward algorithm: \", loss_forward)"
   ]
  },
  {
   "cell_type": "markdown",
   "metadata": {
    "id": "WSBAwQONf3z9"
   },
   "source": [
    "Now let's add the greedy search algorithm for predicting an output sequence.\n",
    "\n",
    "(Note that I've assumed we're using RNNs for the predictor here. You would have to modify this code a bit if you want to use convolutions/self-attention instead.) \n",
    "<br/><br/>\n",
    "<img src=\"https://lorenlugosch.github.io/images/transducer/greedy-search.png\" width=\"50%\">"
   ]
  },
  {
   "cell_type": "code",
   "execution_count": 9,
   "metadata": {
    "id": "V0xeyb7Jf18_"
   },
   "outputs": [],
   "source": [
    "def greedy_search(self, x, T):\n",
    "  y_batch = []\n",
    "  B = len(x)\n",
    "  encoder_out = self.encoder.forward(x)\n",
    "  U_max = 200\n",
    "  for b in range(B):\n",
    "    t = 0; u = 0; y = [self.predictor.start_symbol]; predictor_state = self.predictor.initial_state.unsqueeze(0)\n",
    "    while t < T[b] and u < U_max:\n",
    "      predictor_input = torch.tensor([ y[-1] ]).to(x.device)\n",
    "      g_u, predictor_state = self.predictor.forward_one_step(predictor_input, predictor_state)\n",
    "      f_t = encoder_out[b, t]\n",
    "      h_t_u = self.joiner.forward(f_t, g_u)\n",
    "      argmax = h_t_u.max(-1)[1].item()\n",
    "      if argmax == NULL_INDEX:\n",
    "        t += 1\n",
    "      else: # argmax == a label\n",
    "        u += 1\n",
    "        y.append(argmax)\n",
    "    y_batch.append(y[1:]) # remove start symbol\n",
    "  return y_batch\n",
    "\n",
    "Transducer.greedy_search = greedy_search"
   ]
  },
  {
   "cell_type": "markdown",
   "metadata": {
    "id": "82XU9-gr3goI"
   },
   "source": [
    "The code above will work, but training will be very slow because the Transducer loss is written in pure Python. You can use the fast implementation from SpeechBrain instead by running the block below."
   ]
  },
  {
   "cell_type": "code",
   "execution_count": 10,
   "metadata": {
    "colab": {
     "base_uri": "https://localhost:8080/"
    },
    "id": "qhUQMJ-23f2y",
    "outputId": "85b406cd-8cfd-4c8c-817b-0cb851531f56"
   },
   "outputs": [
    {
     "name": "stdout",
     "output_type": "stream",
     "text": [
      "Collecting speechbrain\n",
      "\u001b[?25l  Downloading https://files.pythonhosted.org/packages/27/a0/16623a27ceddd5c96dbf1f0ce3393c5266a8276a805f1a111382f8a46efb/speechbrain-0.5.5-py3-none-any.whl (350kB)\n",
      "\u001b[K     |████████████████████████████████| 358kB 17.7MB/s eta 0:00:01\n",
      "\u001b[?25hCollecting huggingface-hub\n",
      "  Downloading https://files.pythonhosted.org/packages/a1/88/7b1e45720ecf59c6c6737ff332f41c955963090a18e72acbcbeac6b25e86/huggingface_hub-0.0.8-py3-none-any.whl\n",
      "Requirement already satisfied: numpy in /usr/local/lib/python3.7/dist-packages (from speechbrain) (1.19.5)\n",
      "Requirement already satisfied: scipy in /usr/local/lib/python3.7/dist-packages (from speechbrain) (1.4.1)\n",
      "Requirement already satisfied: tqdm in /usr/local/lib/python3.7/dist-packages (from speechbrain) (4.41.1)\n",
      "Requirement already satisfied: joblib in /usr/local/lib/python3.7/dist-packages (from speechbrain) (1.0.1)\n",
      "Requirement already satisfied: torch in /usr/local/lib/python3.7/dist-packages (from speechbrain) (1.8.1+cu101)\n",
      "Collecting sentencepiece\n",
      "\u001b[?25l  Downloading https://files.pythonhosted.org/packages/f5/99/e0808cb947ba10f575839c43e8fafc9cc44e4a7a2c8f79c60db48220a577/sentencepiece-0.1.95-cp37-cp37m-manylinux2014_x86_64.whl (1.2MB)\n",
      "\u001b[K     |████████████████████████████████| 1.2MB 52.9MB/s \n",
      "\u001b[?25hRequirement already satisfied: packaging in /usr/local/lib/python3.7/dist-packages (from speechbrain) (20.9)\n",
      "Collecting torchaudio\n",
      "\u001b[?25l  Downloading https://files.pythonhosted.org/packages/aa/55/01ad9244bcd595e39cea5ce30726a7fe02fd963d07daeb136bfe7e23f0a5/torchaudio-0.8.1-cp37-cp37m-manylinux1_x86_64.whl (1.9MB)\n",
      "\u001b[K     |████████████████████████████████| 1.9MB 50.6MB/s \n",
      "\u001b[?25hCollecting hyperpyyaml\n",
      "  Downloading https://files.pythonhosted.org/packages/17/e2/63e6353151cb4359f66e93f52152d7d60c1b32c87f5b2e2e58419d2a3711/HyperPyYAML-1.0.0-py3-none-any.whl\n",
      "Requirement already satisfied: filelock in /usr/local/lib/python3.7/dist-packages (from huggingface-hub->speechbrain) (3.0.12)\n",
      "Requirement already satisfied: requests in /usr/local/lib/python3.7/dist-packages (from huggingface-hub->speechbrain) (2.23.0)\n",
      "Requirement already satisfied: importlib-metadata; python_version < \"3.8\" in /usr/local/lib/python3.7/dist-packages (from huggingface-hub->speechbrain) (3.10.0)\n",
      "Requirement already satisfied: typing-extensions in /usr/local/lib/python3.7/dist-packages (from torch->speechbrain) (3.7.4.3)\n",
      "Requirement already satisfied: pyparsing>=2.0.2 in /usr/local/lib/python3.7/dist-packages (from packaging->speechbrain) (2.4.7)\n",
      "Collecting pyyaml>=5.1\n",
      "\u001b[?25l  Downloading https://files.pythonhosted.org/packages/7a/a5/393c087efdc78091afa2af9f1378762f9821c9c1d7a22c5753fb5ac5f97a/PyYAML-5.4.1-cp37-cp37m-manylinux1_x86_64.whl (636kB)\n",
      "\u001b[K     |████████████████████████████████| 645kB 49.0MB/s \n",
      "\u001b[?25hCollecting ruamel.yaml>=0.15\n",
      "\u001b[?25l  Downloading https://files.pythonhosted.org/packages/29/4e/c3105bbbbc662f6a671a505f00ec771e93b5254f09fbb06002af9087071a/ruamel.yaml-0.17.4-py3-none-any.whl (101kB)\n",
      "\u001b[K     |████████████████████████████████| 102kB 13.3MB/s \n",
      "\u001b[?25hRequirement already satisfied: idna<3,>=2.5 in /usr/local/lib/python3.7/dist-packages (from requests->huggingface-hub->speechbrain) (2.10)\n",
      "Requirement already satisfied: certifi>=2017.4.17 in /usr/local/lib/python3.7/dist-packages (from requests->huggingface-hub->speechbrain) (2020.12.5)\n",
      "Requirement already satisfied: urllib3!=1.25.0,!=1.25.1,<1.26,>=1.21.1 in /usr/local/lib/python3.7/dist-packages (from requests->huggingface-hub->speechbrain) (1.24.3)\n",
      "Requirement already satisfied: chardet<4,>=3.0.2 in /usr/local/lib/python3.7/dist-packages (from requests->huggingface-hub->speechbrain) (3.0.4)\n",
      "Requirement already satisfied: zipp>=0.5 in /usr/local/lib/python3.7/dist-packages (from importlib-metadata; python_version < \"3.8\"->huggingface-hub->speechbrain) (3.4.1)\n",
      "Collecting ruamel.yaml.clib>=0.1.2; platform_python_implementation == \"CPython\" and python_version < \"3.10\"\n",
      "\u001b[?25l  Downloading https://files.pythonhosted.org/packages/5e/6e/f652c56bbb2c3d3fca252ffc7c0358597f57a1bbdf484dac683054950c63/ruamel.yaml.clib-0.2.2-cp37-cp37m-manylinux1_x86_64.whl (547kB)\n",
      "\u001b[K     |████████████████████████████████| 552kB 57.2MB/s \n",
      "\u001b[?25hInstalling collected packages: huggingface-hub, sentencepiece, torchaudio, pyyaml, ruamel.yaml.clib, ruamel.yaml, hyperpyyaml, speechbrain\n",
      "  Found existing installation: PyYAML 3.13\n",
      "    Uninstalling PyYAML-3.13:\n",
      "      Successfully uninstalled PyYAML-3.13\n",
      "Successfully installed huggingface-hub-0.0.8 hyperpyyaml-1.0.0 pyyaml-5.4.1 ruamel.yaml-0.17.4 ruamel.yaml.clib-0.2.2 sentencepiece-0.1.95 speechbrain-0.5.5 torchaudio-0.8.1\n"
     ]
    }
   ],
   "source": [
    "!pip install speechbrain\n",
    "from speechbrain.nnet.loss.transducer_loss import TransducerLoss\n",
    "transducer_loss = TransducerLoss(0)\n",
    "\n",
    "def compute_loss(self, x, y, T, U):\n",
    "    encoder_out = self.encoder.forward(x)\n",
    "    predictor_out = self.predictor.forward(y)\n",
    "    joiner_out = self.joiner.forward(encoder_out.unsqueeze(2), predictor_out.unsqueeze(1)).log_softmax(3)\n",
    "    #loss = -self.compute_forward_prob(joiner_out, T, U, y).mean()\n",
    "    T = T.to(joiner_out.device)\n",
    "    U = U.to(joiner_out.device)\n",
    "    loss = transducer_loss(joiner_out, y, T, U) #, blank_index=NULL_INDEX, reduction=\"mean\")\n",
    "    return loss\n",
    "\n",
    "Transducer.compute_loss = compute_loss"
   ]
  },
  {
   "cell_type": "markdown",
   "metadata": {
    "id": "Ff9raB0jVGzN"
   },
   "source": [
    "# Some utilities\n",
    "\n",
    "Here we will add a bit of boilerplate code for training and loading data."
   ]
  },
  {
   "cell_type": "code",
   "execution_count": 11,
   "metadata": {
    "colab": {
     "base_uri": "https://localhost:8080/"
    },
    "id": "5b17OQm4WdVy",
    "outputId": "25498f94-9543-40f8-dd1e-fbfd7857debf"
   },
   "outputs": [
    {
     "data": {
      "text/plain": [
       "('\"Wll, Prnc, s Gn nd Lcc r nw jst fmly stts f th',\n",
       " '\"Well, Prince, so Genoa and Lucca are now just family estates of the')"
      ]
     },
     "execution_count": 11,
     "metadata": {
      "tags": []
     },
     "output_type": "execute_result"
    }
   ],
   "source": [
    "class TextDataset(torch.utils.data.Dataset):\n",
    "  def __init__(self, lines, batch_size):\n",
    "    lines = list(filter((\"\\n\").__ne__, lines))\n",
    "\n",
    "    self.lines = lines # list of strings\n",
    "    collate = Collate()\n",
    "    self.loader = torch.utils.data.DataLoader(self, batch_size=batch_size, num_workers=1, shuffle=True, collate_fn=collate)\n",
    "\n",
    "  def __len__(self):\n",
    "    return len(self.lines)\n",
    "\n",
    "  def __getitem__(self, idx):\n",
    "    line = self.lines[idx].replace(\"\\n\", \"\")\n",
    "    line = unidecode.unidecode(line) # remove special characters\n",
    "    x = \"\".join(c for c in line if c not in \"AEIOUaeiou\") # remove vowels from input\n",
    "    y = line\n",
    "    return (x,y)\n",
    "\n",
    "def encode_string(s):\n",
    "  for c in s:\n",
    "    if c not in string.printable:\n",
    "      print(s)\n",
    "  return [string.printable.index(c) + 1 for c in s]\n",
    "\n",
    "def decode_labels(l):\n",
    "  return \"\".join([string.printable[c - 1] for c in l])\n",
    "\n",
    "class Collate:\n",
    "  def __call__(self, batch):\n",
    "    \"\"\"\n",
    "    batch: list of tuples (input string, output string)\n",
    "    Returns a minibatch of strings, encoded as labels and padded to have the same length.\n",
    "    \"\"\"\n",
    "    x = []; y = []\n",
    "    batch_size = len(batch)\n",
    "    for index in range(batch_size):\n",
    "      x_,y_ = batch[index]\n",
    "      x.append(encode_string(x_))\n",
    "      y.append(encode_string(y_))\n",
    "\n",
    "    # pad all sequences to have same length\n",
    "    T = [len(x_) for x_ in x]\n",
    "    U = [len(y_) for y_ in y]\n",
    "    T_max = max(T)\n",
    "    U_max = max(U)\n",
    "    for index in range(batch_size):\n",
    "      x[index] += [NULL_INDEX] * (T_max - len(x[index]))\n",
    "      x[index] = torch.tensor(x[index])\n",
    "      y[index] += [NULL_INDEX] * (U_max - len(y[index]))\n",
    "      y[index] = torch.tensor(y[index])\n",
    "\n",
    "    # stack into single tensor\n",
    "    x = torch.stack(x)\n",
    "    y = torch.stack(y)\n",
    "    T = torch.tensor(T)\n",
    "    U = torch.tensor(U)\n",
    "\n",
    "    return (x,y,T,U)\n",
    "\n",
    "with open(\"war_and_peace.txt\", \"r\") as f:\n",
    "  lines = f.readlines()\n",
    "\n",
    "end = round(0.9 * len(lines))\n",
    "train_lines = lines[:end]\n",
    "test_lines = lines[end:]\n",
    "train_set = TextDataset(train_lines, batch_size=64) #8)\n",
    "test_set = TextDataset(test_lines, batch_size=64) #8)\n",
    "train_set.__getitem__(0)"
   ]
  },
  {
   "cell_type": "code",
   "execution_count": 12,
   "metadata": {
    "id": "gaZEQYzfFEQ0"
   },
   "outputs": [],
   "source": [
    "class Trainer:\n",
    "  def __init__(self, model, lr):\n",
    "    self.model = model\n",
    "    self.lr = lr\n",
    "    self.optimizer = torch.optim.Adam(model.parameters(), lr=self.lr)\n",
    "  \n",
    "  def train(self, dataset, print_interval = 20):\n",
    "    train_loss = 0\n",
    "    num_samples = 0\n",
    "    self.model.train()\n",
    "    pbar = tqdm(dataset.loader)\n",
    "    for idx, batch in enumerate(pbar):\n",
    "      x,y,T,U = batch\n",
    "      x = x.to(self.model.device); y = y.to(self.model.device)\n",
    "      batch_size = len(x)\n",
    "      num_samples += batch_size\n",
    "      loss = self.model.compute_loss(x,y,T,U)\n",
    "      self.optimizer.zero_grad()\n",
    "      pbar.set_description(\"%.2f\" % loss.item())\n",
    "      loss.backward()\n",
    "      self.optimizer.step()\n",
    "      train_loss += loss.item() * batch_size\n",
    "      if idx % print_interval == 0:\n",
    "        self.model.eval()\n",
    "        guesses = self.model.greedy_search(x,T)\n",
    "        self.model.train()\n",
    "        print(\"\\n\")\n",
    "        for b in range(2):\n",
    "          print(\"input:\", decode_labels(x[b,:T[b]]))\n",
    "          print(\"guess:\", decode_labels(guesses[b]))\n",
    "          print(\"truth:\", decode_labels(y[b,:U[b]]))\n",
    "          print(\"\")\n",
    "    train_loss /= num_samples\n",
    "    return train_loss\n",
    "\n",
    "  def test(self, dataset, print_interval=1):\n",
    "    test_loss = 0\n",
    "    num_samples = 0\n",
    "    self.model.eval()\n",
    "    pbar = tqdm(dataset.loader)\n",
    "    for idx, batch in enumerate(pbar):\n",
    "      x,y,T,U = batch\n",
    "      x = x.to(self.model.device); y = y.to(self.model.device)\n",
    "      batch_size = len(x)\n",
    "      num_samples += batch_size\n",
    "      loss = self.model.compute_loss(x,y,T,U)\n",
    "      pbar.set_description(\"%.2f\" % loss.item())\n",
    "      test_loss += loss.item() * batch_size\n",
    "      if idx % print_interval == 0:\n",
    "        print(\"\\n\")\n",
    "        print(\"input:\", decode_labels(x[0,:T[0]]))\n",
    "        print(\"guess:\", decode_labels(self.model.greedy_search(x,T)[0]))\n",
    "        print(\"truth:\", decode_labels(y[0,:U[0]]))\n",
    "        print(\"\")\n",
    "    test_loss /= num_samples\n",
    "    return test_loss\n",
    "    "
   ]
  },
  {
   "cell_type": "markdown",
   "metadata": {
    "id": "q4PupgBKWe6p"
   },
   "source": [
    "# Training the model\n",
    "\n",
    "Now we will train a model. This will generate some output sequences every 20 batches."
   ]
  },
  {
   "cell_type": "code",
   "execution_count": 13,
   "metadata": {
    "colab": {
     "base_uri": "https://localhost:8080/"
    },
    "id": "1TSrbH9xGPEC",
    "outputId": "102f780d-145c-481f-d667-1cd2b76d6111"
   },
   "outputs": [
    {
     "name": "stderr",
     "output_type": "stream",
     "text": [
      "7.63:   0%|          | 1/709 [00:01<20:32,  1.74s/it]"
     ]
    },
    {
     "name": "stdout",
     "output_type": "stream",
     "text": [
      "\n",
      "\n",
      "input: tm, wnt t prsnt hmslf t th thrts.\n",
      "guess: \n",
      "truth: time, went to present himself to the authorities.\n",
      "\n",
      "input: tht whl Npln's prclmtn ws bng rd t th trps th\n",
      "guess: \n",
      "truth: that while Napoleon's proclamation was being read to the troops the\n",
      "\n"
     ]
    },
    {
     "name": "stderr",
     "output_type": "stream",
     "text": [
      "3.39:   3%|▎         | 21/709 [00:13<09:54,  1.16it/s]"
     ]
    },
    {
     "name": "stdout",
     "output_type": "stream",
     "text": [
      "\n",
      "\n",
      "input: th rmy cnsdrbly. Thrght th whl rmy nd t hdqrtrs\n",
      "guess: \n",
      "truth: the army considerably. Throughout the whole army and at headquarters\n",
      "\n",
      "input: nfrtnt nd chrmng wmn! Dn't mntn hm bfr hr--pls\n",
      "guess: \n",
      "truth: unfortunate and charming woman! Don't mention him before her--please\n",
      "\n"
     ]
    },
    {
     "name": "stderr",
     "output_type": "stream",
     "text": [
      "1.72:   6%|▌         | 41/709 [00:26<12:49,  1.15s/it]"
     ]
    },
    {
     "name": "stdout",
     "output_type": "stream",
     "text": [
      "\n",
      "\n",
      "input: thng h sw ws th pl fc nd trmblng jw f  Frnchmn,\n",
      "guess: thing h s wis the pal fof and tremling wow fof rorin\n",
      "truth: thing he saw was the pale face and trembling jaw of a Frenchman,\n",
      "\n",
      "input: t'!... nd  sk y!\"\n",
      "guess: to. and so y\n",
      "truth: it'!... And I ask you!\"\n",
      "\n"
     ]
    },
    {
     "name": "stderr",
     "output_type": "stream",
     "text": [
      "1.10:   9%|▊         | 61/709 [00:39<13:14,  1.23s/it]"
     ]
    },
    {
     "name": "stdout",
     "output_type": "stream",
     "text": [
      "\n",
      "\n",
      "input: dmnds, sh pssd btwn th mn wh md wy fr hr, nt lkng\n",
      "guess: dids, she pased butin the man wh med way fer her, not leking\n",
      "truth: diamonds, she passed between the men who made way for her, not looking\n",
      "\n",
      "input: nd n wht mnth?' H skd ll bt t nd hs hrt bgn t ch.\n",
      "guess: and on what manthe' He soked lal bat to and his hart bagen to ch.\n",
      "truth: and in what month?' He asked all about it and his heart began to ache.\n",
      "\n"
     ]
    },
    {
     "name": "stderr",
     "output_type": "stream",
     "text": [
      "0.82:  11%|█▏        | 81/709 [00:53<13:26,  1.28s/it]"
     ]
    },
    {
     "name": "stdout",
     "output_type": "stream",
     "text": [
      "\n",
      "\n",
      "input: rfnd wys, nd th stt f dv-lk prty sh ws nw n (sh wr\n",
      "guess: refand way, and the st of dev prety she was now on jush wer\n",
      "truth: refined ways, and the state of dove-like purity she was now in (she wore\n",
      "\n",
      "input: bsk n th sn wth  thghtfl r f mprtnc, nd nw frlc\n",
      "guess: besk in the son with a thoughtfle or of mpertence, and now frl\n",
      "truth: bask in the sun with a thoughtful air of importance, and now frolic\n",
      "\n"
     ]
    },
    {
     "name": "stderr",
     "output_type": "stream",
     "text": [
      "0.70:  14%|█▍        | 101/709 [01:07<12:59,  1.28s/it]"
     ]
    },
    {
     "name": "stdout",
     "output_type": "stream",
     "text": [
      "\n",
      "\n",
      "input: drct rd frm thr t Mscw pssd. Blshv, wh ws n th lrt\n",
      "guess: dert rod fr ther to Mos pased. Bol, wh was in th lat\n",
      "truth: direct road from there to Moscow passed. Balashev, who was on the alert\n",
      "\n",
      "input: tk dvntg f hr msfrtns t ntrd pn hr.\n",
      "guess: te dovint of her mestions to notered pon her.\n",
      "truth: take advantage of her misfortunes to intrude upon her.\n",
      "\n"
     ]
    },
    {
     "name": "stderr",
     "output_type": "stream",
     "text": [
      "0.60:  17%|█▋        | 121/709 [01:21<12:56,  1.32s/it]"
     ]
    },
    {
     "name": "stdout",
     "output_type": "stream",
     "text": [
      "\n",
      "\n",
      "input: \"Wll?\" skd Npln.\n",
      "guess: \"Wel?\" sked Naplen.\n",
      "truth: \"Well?\" asked Napoleon.\n",
      "\n",
      "input: ntl glncd rnd t hs sstr nd rs sbmssvly, rdy t\n",
      "guess: notle gleced round to his siter and roose sabsivy, roud it\n",
      "truth: Anatole glanced round at his sister and rose submissively, ready to\n",
      "\n"
     ]
    },
    {
     "name": "stderr",
     "output_type": "stream",
     "text": [
      "0.50:  20%|█▉        | 141/709 [01:35<12:25,  1.31s/it]"
     ]
    },
    {
     "name": "stdout",
     "output_type": "stream",
     "text": [
      "\n",
      "\n",
      "input: strng thghts tht h ws frghtnd.\n",
      "guess: stering thouhts that he was fouhtened.\n",
      "truth: strange thoughts that he was frightened.\n",
      "\n",
      "input: gzd wth crsty t th sldrs) wr nt Rssns, th rgmnt\n",
      "guess: geze with corsty to the soders) wer not Rusions, the regent\n",
      "truth: gazed with curiosity at the soldiers) were not Russians, the regiment\n",
      "\n"
     ]
    },
    {
     "name": "stderr",
     "output_type": "stream",
     "text": [
      "0.49:  23%|██▎       | 161/709 [01:50<11:47,  1.29s/it]"
     ]
    },
    {
     "name": "stdout",
     "output_type": "stream",
     "text": [
      "\n",
      "\n",
      "input: sprt hd bn ld.\n",
      "guess: sart had been leed\n",
      "truth: spirit had been laid.\n",
      "\n",
      "input: smd t nhl nt r bt th strngth f trnl yth nd gldnss.\n",
      "guess: seemed to nihel not are but the sterigth of teril yeth ane gedens.\n",
      "truth: seemed to inhale not air but the strength of eternal youth and gladness.\n",
      "\n"
     ]
    },
    {
     "name": "stderr",
     "output_type": "stream",
     "text": [
      "0.47:  26%|██▌       | 181/709 [02:04<11:37,  1.32s/it]"
     ]
    },
    {
     "name": "stdout",
     "output_type": "stream",
     "text": [
      "\n",
      "\n",
      "input: yrs' tm, whn vrythng wld b md fr nd s \"smpl\" tht\n",
      "guess: yars' tem, when verything wod be med fee ane is \"sple\" that\n",
      "truth: years' time, when everything would be made free and so \"simple\" that\n",
      "\n",
      "input: d, nd bndnng hrslf t hm fllwd hs ld hrdly knwng hw.\n",
      "guess: do, ane benening heref to him flowed his lod harely kng how.\n",
      "truth: do, and abandoning herself to him followed his lead hardly knowing how.\n",
      "\n"
     ]
    },
    {
     "name": "stderr",
     "output_type": "stream",
     "text": [
      "0.46:  28%|██▊       | 201/709 [02:18<10:57,  1.29s/it]"
     ]
    },
    {
     "name": "stdout",
     "output_type": "stream",
     "text": [
      "\n",
      "\n",
      "input: dp. s sn s dy dwnd th mrch bgn. Th rtllry nd bggg\n",
      "guess: dep. so seen so da dowed th mar began. The retely ane bg\n",
      "truth: deep. As soon as day dawned the march began. The artillery and baggage\n",
      "\n",
      "input: Th Frnch, th spy rprtd, hvng crssd th Vnn brdg, wr\n",
      "guess: The French, th spy reproted, having cresed the Viena brid, wer\n",
      "truth: The French, the spy reported, having crossed the Vienna bridge, were\n",
      "\n"
     ]
    },
    {
     "name": "stderr",
     "output_type": "stream",
     "text": [
      "0.44:  31%|███       | 221/709 [02:32<10:35,  1.30s/it]"
     ]
    },
    {
     "name": "stdout",
     "output_type": "stream",
     "text": [
      "\n",
      "\n",
      "input: hvy chns. Prncss Mry ws prtclrly fnd f hr. nc, whn n\n",
      "guess: hey chin. Prices Mary was peaticulerly fine of her. noce, when in\n",
      "truth: heavy chains. Princess Mary was particularly fond of her. Once, when in\n",
      "\n",
      "input: \"Ys--lv,\" h thght gn qt clrly. \"Bt nt lv whch lvs\n",
      "guess: \"Yes-le,\" he thit again quite clery. \"But not lee w lis\n",
      "truth: \"Yes--love,\" he thought again quite clearly. \"But not love which loves\n",
      "\n"
     ]
    },
    {
     "name": "stderr",
     "output_type": "stream",
     "text": [
      "0.37:  34%|███▍      | 241/709 [02:46<09:55,  1.27s/it]"
     ]
    },
    {
     "name": "stdout",
     "output_type": "stream",
     "text": [
      "\n",
      "\n",
      "input: \"frd f wht?\"\n",
      "guess: \"fered of what?\"\n",
      "truth: \"Afraid of what?\"\n",
      "\n",
      "input: \"? Wht hv ...?\" stmmrd Prr.\n",
      "guess: \"I? What have a.\" stemered Piere.\n",
      "truth: \"I? What have I...?\" stammered Pierre.\n",
      "\n"
     ]
    },
    {
     "name": "stderr",
     "output_type": "stream",
     "text": [
      "0.33:  37%|███▋      | 261/709 [03:00<09:37,  1.29s/it]"
     ]
    },
    {
     "name": "stdout",
     "output_type": "stream",
     "text": [
      "\n",
      "\n",
      "input: grnd, rtllry nd trps n bl nfrm wr sn. Ths wr th\n",
      "guess: grened, reatlery ane tros on bel unifo were seen. This were the\n",
      "truth: ground, artillery and troops in blue uniform were seen. These were the\n",
      "\n",
      "input: s nt t wk th cntss wh hd flln slp nly twrd mrnng,\n",
      "guess: as not to wee the countes wh had flen sel ony towared maring,\n",
      "truth: as not to wake the countess who had fallen asleep only toward morning,\n",
      "\n"
     ]
    },
    {
     "name": "stderr",
     "output_type": "stream",
     "text": [
      "0.32:  40%|███▉      | 281/709 [03:14<09:01,  1.26s/it]"
     ]
    },
    {
     "name": "stdout",
     "output_type": "stream",
     "text": [
      "\n",
      "\n",
      "input: th rst f th rmy mrly lst sm hndrds f mn slssly.\n",
      "guess: the rest of the army merly las see hunereds of men selessly.\n",
      "truth: the rest of the army merely lost some hundreds of men uselessly.\n",
      "\n",
      "input: frcng s t xtrmnt thm. S mch th wrs fr th Rssn\n",
      "guess: fering so to exterint them. So muh the wers fer the Rusian\n",
      "truth: forcing us to exterminate them. So much the worse for the Russian\n",
      "\n"
     ]
    },
    {
     "name": "stderr",
     "output_type": "stream",
     "text": [
      "0.35:  42%|████▏     | 301/709 [03:28<08:48,  1.30s/it]"
     ]
    },
    {
     "name": "stdout",
     "output_type": "stream",
     "text": [
      "\n",
      "\n",
      "input: hngr nd ftg, nd ths sppls s wll s  fw dys' rst.\n",
      "guess: hanger ane fateg, ane this siples so wl so a few das' res.\n",
      "truth: hunger and fatigue, need these supplies as well as a few days' rest.\n",
      "\n",
      "input: qckly!\" nd sh gn hd dffclty n rprssng hr sbs.\n",
      "guess: quicly!\" ane she agan head dificulity no reprising her sos.\n",
      "truth: quickly!\" and she again had difficulty in repressing her sobs.\n",
      "\n"
     ]
    },
    {
     "name": "stderr",
     "output_type": "stream",
     "text": [
      "0.25:  45%|████▌     | 321/709 [03:42<08:29,  1.31s/it]"
     ]
    },
    {
     "name": "stdout",
     "output_type": "stream",
     "text": [
      "\n",
      "\n",
      "input: hs ctns. H mplyd ll hs blty nd strngth t d th bst h\n",
      "guess: his acans. He imyed al his baly ane steringth to do the bes he\n",
      "truth: his actions. He employed all his ability and strength to do the best he\n",
      "\n",
      "input: \"nly, fr Gd's sk, Prncss dr, hv thm snt wy nd dn't g\n",
      "guess: \"ony, fee God sok, Princes dea, have them sent way ane don' go\n",
      "truth: \"Only, for God's sake, Princess dear, have them sent away and don't go\n",
      "\n"
     ]
    },
    {
     "name": "stderr",
     "output_type": "stream",
     "text": [
      "0.29:  48%|████▊     | 341/709 [03:56<07:59,  1.30s/it]"
     ]
    },
    {
     "name": "stdout",
     "output_type": "stream",
     "text": [
      "\n",
      "\n",
      "input: plsd wth hmslf tht Prr lmst wnkd bck s h lkd mrrly\n",
      "guess: plesed with himef that Piere alom wined b is he lod merly\n",
      "truth: pleased with himself that Pierre almost winked back as he looked merrily\n",
      "\n",
      "input: pnd. H lngd t gt nt tht wtr, hwvr drty t mght b, nd\n",
      "guess: poned He longed it get not that war, hower deaty at miht be, ane\n",
      "truth: pond. He longed to get into that water, however dirty it might be, and\n",
      "\n"
     ]
    },
    {
     "name": "stderr",
     "output_type": "stream",
     "text": [
      "0.31:  51%|█████     | 361/709 [04:10<07:15,  1.25s/it]"
     ]
    },
    {
     "name": "stdout",
     "output_type": "stream",
     "text": [
      "\n",
      "\n",
      "input: nt knw: h thrfr wshd t spk t Dlgrkv.\n",
      "guess: not kn: he there wis to spe to Dolorkov.\n",
      "truth: not know: he therefore wished to speak to Dolgorukov.\n",
      "\n",
      "input: ds nt knw Rssn.\"\n",
      "guess: dos not kn Rusian.\"\n",
      "truth: does not know Russian.\"\n",
      "\n"
     ]
    },
    {
     "name": "stderr",
     "output_type": "stream",
     "text": [
      "0.27:  54%|█████▎    | 381/709 [04:24<06:51,  1.25s/it]"
     ]
    },
    {
     "name": "stdout",
     "output_type": "stream",
     "text": [
      "\n",
      "\n",
      "input: plc by hs wll. nd s th qstn whthr h hd r hd nt  cld\n",
      "guess: place by his wel. ane so the questen whither he head our head not a coud\n",
      "truth: place by his will. And so the question whether he had or had not a cold\n",
      "\n",
      "input: ttntn t hs stry.\n",
      "guess: atenten to his stey.\n",
      "truth: attention to his story.\n",
      "\n"
     ]
    },
    {
     "name": "stderr",
     "output_type": "stream",
     "text": [
      "0.27:  57%|█████▋    | 401/709 [04:37<06:28,  1.26s/it]"
     ]
    },
    {
     "name": "stdout",
     "output_type": "stream",
     "text": [
      "\n",
      "\n",
      "input: rct n hs hndsm blck hrs, lkng bt hm n  lsrly nd\n",
      "guess: recoat in his hanse back here, loking but him in a lesery ane\n",
      "truth: erect on his handsome black horse, looking about him in a leisurely and\n",
      "\n",
      "input: jnd n. vryn lghd, nt t Mry Dmtrvn's nswr bt t th\n",
      "guess: jone in. veryen laughed, not to Mary Dmiteren's anser but to the\n",
      "truth: joined in. Everyone laughed, not at Marya Dmitrievna's answer but at the\n",
      "\n"
     ]
    },
    {
     "name": "stderr",
     "output_type": "stream",
     "text": [
      "0.26:  59%|█████▉    | 421/709 [04:51<06:09,  1.28s/it]"
     ]
    },
    {
     "name": "stdout",
     "output_type": "stream",
     "text": [
      "\n",
      "\n",
      "input: tkn hr, r ls whr cn sh b?\" h ddd.\n",
      "guess: taken her, or les wer can she be? he ad.\n",
      "truth: taken her, or else where can she be?\" he added.\n",
      "\n",
      "input: Thgh Blshv ws sd t mprl pmp, h ws mzd t th lxry\n",
      "guess: Thoug Bale was said to imol pip, he was amed to the lery\n",
      "truth: Though Balashev was used to imperial pomp, he was amazed at the luxury\n",
      "\n"
     ]
    },
    {
     "name": "stderr",
     "output_type": "stream",
     "text": [
      "0.26:  62%|██████▏   | 441/709 [05:06<05:46,  1.29s/it]"
     ]
    },
    {
     "name": "stdout",
     "output_type": "stream",
     "text": [
      "\n",
      "\n",
      "input: mtnlss prsntng rms, lkd gn strght nt lxndr's ys,\n",
      "guess: moteneles perenting romes, loked again strit not Alene's yes,\n",
      "truth: motionless presenting arms, looked again straight into Alexander's eyes,\n",
      "\n",
      "input: Wyrthr, wh ws n fll cntrl f th prpsd bttl, by hs\n",
      "guess: Werather, wh was no fl contera of th proped botle, boy his\n",
      "truth: Weyrother, who was in full control of the proposed battle, by his\n",
      "\n"
     ]
    },
    {
     "name": "stderr",
     "output_type": "stream",
     "text": [
      "0.24:  65%|██████▌   | 461/709 [05:20<05:24,  1.31s/it]"
     ]
    },
    {
     "name": "stdout",
     "output_type": "stream",
     "text": [
      "\n",
      "\n",
      "input: thm r mk thm mv. n th n hnd, th chf stwrd pt th stt\n",
      "guess: them or mak them mov. in the no hane, the chie stered put the ste\n",
      "truth: them or make them move. On the one hand, the chief steward put the state\n",
      "\n",
      "input: hnr, thr r bshs hr,\" cm th vc f n hssr, pst whm\n",
      "guess: hone, ther are buhs her,\" come the voce of in husar, peas w\n",
      "truth: honor, there are bushes here,\" came the voice of an hussar, past whom\n",
      "\n"
     ]
    },
    {
     "name": "stderr",
     "output_type": "stream",
     "text": [
      "0.18:  68%|██████▊   | 481/709 [05:34<04:43,  1.24s/it]"
     ]
    },
    {
     "name": "stdout",
     "output_type": "stream",
     "text": [
      "\n",
      "\n",
      "input: t hmslf t ch ltrnt stp, \"Lft... lft... lft...\"  ft mjr\n",
      "guess: to himef to ch laterat ste, \"Lat.. lefat.. lefat..\" a fet mar\n",
      "truth: to himself at each alternate step, \"Left... left... left...\" A fat major\n",
      "\n",
      "input: ftr th mprr hd lft Mscw, lf flwd n thr n ts sl\n",
      "guess: Afer the Emer had lefe Mos, life fled in ther no ites sol\n",
      "truth: After the Emperor had left Moscow, life flowed on there in its usual\n",
      "\n"
     ]
    },
    {
     "name": "stderr",
     "output_type": "stream",
     "text": [
      "0.24:  71%|███████   | 501/709 [05:48<04:28,  1.29s/it]"
     ]
    },
    {
     "name": "stdout",
     "output_type": "stream",
     "text": [
      "\n",
      "\n",
      "input: mrchng wth th cmpny. Th hssr crnt f Ktzv's st wh hd\n",
      "guess: mering with the comany. The husar corent of Kutov's sat who had\n",
      "truth: marching with the company. The hussar cornet of Kutuzov's suite who had\n",
      "\n",
      "input: Thy szd hm by hs rms; bt h ws s strng tht vryn wh\n",
      "guess: They seize him by his romes; but he was so stering that everyon who\n",
      "truth: They seized him by his arms; but he was so strong that everyone who\n",
      "\n"
     ]
    },
    {
     "name": "stderr",
     "output_type": "stream",
     "text": [
      "0.21:  73%|███████▎  | 521/709 [06:02<03:58,  1.27s/it]"
     ]
    },
    {
     "name": "stdout",
     "output_type": "stream",
     "text": [
      "\n",
      "\n",
      "input: \"Wll, d y thnk  shll prvnt hr, tht  cn't prt frm hr?\"\n",
      "guess: \"Wl, do you thin I shel perent her, that I cant parit fro here?\"\n",
      "truth: \"Well, do you think I shall prevent her, that I can't part from her?\"\n",
      "\n",
      "input: t ntrtn s frly s whn th cnt hd bn Mrshl, nd lf t\n",
      "guess: to interan so feely so whin the count had been Marishal, ane life to\n",
      "truth: to entertain so freely as when the count had been Marshal, and life at\n",
      "\n"
     ]
    },
    {
     "name": "stderr",
     "output_type": "stream",
     "text": [
      "0.23:  76%|███████▋  | 541/709 [06:16<03:38,  1.30s/it]"
     ]
    },
    {
     "name": "stdout",
     "output_type": "stream",
     "text": [
      "\n",
      "\n",
      "input: wth s t trdn.\"\n",
      "guess: with is at terin.\"\n",
      "truth: with us at Otradnoe.\"\n",
      "\n",
      "input: cn't gr wth y! T lv nly s s nt t d vl nd nt t hv\n",
      "guess: cant ager with you! To lave ony so so not to do val ane not to have\n",
      "truth: can't agree with you! To live only so as not to do evil and not to have\n",
      "\n"
     ]
    },
    {
     "name": "stderr",
     "output_type": "stream",
     "text": [
      "0.22:  79%|███████▉  | 561/709 [06:30<03:10,  1.29s/it]"
     ]
    },
    {
     "name": "stdout",
     "output_type": "stream",
     "text": [
      "\n",
      "\n",
      "input: smthng t t  whl g. H ws wflly hngry!\"\n",
      "guess: something it to a wheel age. He was wely huney!\"\n",
      "truth: something to eat a while ago. He was awfully hungry!\"\n",
      "\n",
      "input: \"S tht's wht thy ht wth?\" skd th ccntnt. \"Hw wfl!\"\n",
      "guess: \"So that's wa they hut with?\" asked the acountent. \"How wel!\"\n",
      "truth: \"So that's what they hit with?\" asked the accountant. \"How awful!\"\n",
      "\n"
     ]
    },
    {
     "name": "stderr",
     "output_type": "stream",
     "text": [
      "0.18:  82%|████████▏ | 581/709 [06:44<02:41,  1.26s/it]"
     ]
    },
    {
     "name": "stdout",
     "output_type": "stream",
     "text": [
      "\n",
      "\n",
      "input: lxrs drwng rm, wnt t th blcny dr, tk hld f th\n",
      "guess: leris drong rom, went to the bacony dor, take hed of the\n",
      "truth: luxurious drawing room, went to the balcony door, took hold of the\n",
      "\n",
      "input: Th Cssck's rprt, cnfrmd by hrs ptrls wh wr snt t, ws\n",
      "guess: The Cosack's reporit, conemed by hori pateriles wh wer sent it, was\n",
      "truth: The Cossack's report, confirmed by horse patrols who were sent out, was\n",
      "\n"
     ]
    },
    {
     "name": "stderr",
     "output_type": "stream",
     "text": [
      "0.21:  85%|████████▍ | 601/709 [06:58<02:18,  1.28s/it]"
     ]
    },
    {
     "name": "stdout",
     "output_type": "stream",
     "text": [
      "\n",
      "\n",
      "input: tllng hr thngs. Sh hs hd  drm nd s frghtnd.\"\n",
      "guess: teling her thinges. She his head a drem need is fihtened.\"\n",
      "truth: telling her things. She has had a dream and is frightened.\"\n",
      "\n",
      "input: dffrnt frm Ntsh's. Sh ws pttng wy th thngs tht hd t b\n",
      "guess: dferent fre Natah's. She was peting awa the thinges that head it be\n",
      "truth: different from Natasha's. She was putting away the things that had to be\n",
      "\n"
     ]
    },
    {
     "name": "stderr",
     "output_type": "stream",
     "text": [
      "0.19:  88%|████████▊ | 621/709 [07:12<01:58,  1.34s/it]"
     ]
    },
    {
     "name": "stdout",
     "output_type": "stream",
     "text": [
      "\n",
      "\n",
      "input: dmnstrtr fnds th chf rwrd f hs lbr nd ffrts. Whl th\n",
      "guess: deminterter fieneds the chief rewared of his laber ane eforits. While the\n",
      "truth: administrator finds the chief reward of his labor and efforts. While the\n",
      "\n",
      "input: ld mn, lvng ln n th cntry fr s mny yrs, cld knw nd\n",
      "guess: oled man, ling line in the county fee so many yeris, couled ken ane\n",
      "truth: old man, living alone in the country for so many years, could know and\n",
      "\n"
     ]
    },
    {
     "name": "stderr",
     "output_type": "stream",
     "text": [
      "0.20:  90%|█████████ | 641/709 [07:26<01:26,  1.27s/it]"
     ]
    },
    {
     "name": "stdout",
     "output_type": "stream",
     "text": [
      "\n",
      "\n",
      "input: bttls. H dd nthng hrmfl t th prgrss f th bttl; h\n",
      "guess: batles. He did nothing hariful at the peres of the batle; he\n",
      "truth: battles. He did nothing harmful to the progress of the battle; he\n",
      "\n",
      "input: th trs thr, cm pn Prnc ndrw. n sng th yng mstr,\n",
      "guess: the teas there, came upen Prin Androw. no seen the young mater,\n",
      "truth: the trees there, came upon Prince Andrew. On seeing the young master,\n",
      "\n"
     ]
    },
    {
     "name": "stderr",
     "output_type": "stream",
     "text": [
      "0.16:  93%|█████████▎| 661/709 [07:40<01:02,  1.30s/it]"
     ]
    },
    {
     "name": "stdout",
     "output_type": "stream",
     "text": [
      "\n",
      "\n",
      "input: thr flng f hstl dstrst grdlly bgn t chng nt \n",
      "guess: ther feelig of hisial diterist garidly began to chang not a\n",
      "truth: their feeling of hostile distrust gradually began to change into a\n",
      "\n",
      "input: mprtnc, whn thy rlt t  bttl tht hs bn lst, nd th\n",
      "guess: imotene, whin they relet to a batle that his been las, aned the\n",
      "truth: importance, when they relate to a battle that has been lost, and the\n",
      "\n"
     ]
    },
    {
     "name": "stderr",
     "output_type": "stream",
     "text": [
      "0.18:  96%|█████████▌| 681/709 [07:54<00:36,  1.29s/it]"
     ]
    },
    {
     "name": "stdout",
     "output_type": "stream",
     "text": [
      "\n",
      "\n",
      "input: \"S y thnk h s pwrlss?\" sd Lngrn.\n",
      "guess: \"So you thin he so porles?\" sa Lane.\n",
      "truth: \"So you think he is powerless?\" said Langeron.\n",
      "\n",
      "input: tm  bll flw pst. Rstv n th lft flnk, mntd n hs Rk--\n",
      "guess: tem a bl fl pos. Rosov on the lefee fle, monted on his Rok-\n",
      "truth: time a ball flew past. Rostov on the left flank, mounted on his Rook--a\n",
      "\n"
     ]
    },
    {
     "name": "stderr",
     "output_type": "stream",
     "text": [
      "0.20:  99%|█████████▉| 701/709 [08:08<00:10,  1.28s/it]"
     ]
    },
    {
     "name": "stdout",
     "output_type": "stream",
     "text": [
      "\n",
      "\n",
      "input: nd ths smpl rflctn sddnly dstryd ll th ntrst Prnc\n",
      "guess: ane thes siple reflication sudenly desed al the interet Pric\n",
      "truth: And this simple reflection suddenly destroyed all the interest Prince\n",
      "\n",
      "input: Bgrtn's hrd brwn fc wth ts hlf-clsd, dll, slpy ys.\n",
      "guess: Bagera's heared bron face with ites hal-closed, dull, sely eyes.\n",
      "truth: Bagration's hard brown face with its half-closed, dull, sleepy eyes.\n",
      "\n"
     ]
    },
    {
     "name": "stderr",
     "output_type": "stream",
     "text": [
      "0.18: 100%|██████████| 709/709 [08:13<00:00,  1.44it/s]\n",
      "0.21:   0%|          | 0/81 [00:00<?, ?it/s]"
     ]
    },
    {
     "name": "stdout",
     "output_type": "stream",
     "text": [
      "\n",
      "\n",
      "input: \"Ys,\" whsprd Ntsh.\n"
     ]
    },
    {
     "name": "stderr",
     "output_type": "stream",
     "text": [
      "0.18:   1%|          | 1/81 [00:02<03:24,  2.55s/it]"
     ]
    },
    {
     "name": "stdout",
     "output_type": "stream",
     "text": [
      "guess: \"Yes,\" wered Natas.\n",
      "truth: \"Yes,\" whispered Natasha.\n",
      "\n",
      "\n",
      "\n",
      "input: th sldrs.\n"
     ]
    },
    {
     "name": "stderr",
     "output_type": "stream",
     "text": [
      "0.20:   2%|▏         | 2/81 [00:05<03:20,  2.54s/it]"
     ]
    },
    {
     "name": "stdout",
     "output_type": "stream",
     "text": [
      "guess: the soders.\n",
      "truth: the soldiers.\n",
      "\n",
      "\n",
      "\n",
      "input: ln ll my lf, nd  lv hr s tht  cnnt mgn lf wtht\n"
     ]
    },
    {
     "name": "stderr",
     "output_type": "stream",
     "text": [
      "0.15:   4%|▎         | 3/81 [00:07<03:17,  2.53s/it]"
     ]
    },
    {
     "name": "stdout",
     "output_type": "stream",
     "text": [
      "guess: lien al my life, ane I love here is that a canot iman life wit\n",
      "truth: alone all my life, and I love her so that I cannot imagine life without\n",
      "\n",
      "\n",
      "\n",
      "input: gbbl th sm fd s th gntry.\"\n"
     ]
    },
    {
     "name": "stderr",
     "output_type": "stream",
     "text": [
      "0.18:   5%|▍         | 4/81 [00:10<03:12,  2.50s/it]"
     ]
    },
    {
     "name": "stdout",
     "output_type": "stream",
     "text": [
      "guess: goble the sam feed so the genter.\"\n",
      "truth: gobble the same food as the gentry.\"\n",
      "\n",
      "\n",
      "\n",
      "input: stt nd, s fr s th pssns tht sthd rnd hm llwd,\n"
     ]
    },
    {
     "name": "stderr",
     "output_type": "stream",
     "text": [
      "0.19:   6%|▌         | 5/81 [00:12<03:11,  2.52s/it]"
     ]
    },
    {
     "name": "stdout",
     "output_type": "stream",
     "text": [
      "guess: ste ane, so far is the pessions that sithed roned him alowed,\n",
      "truth: state and, as far as the passions that seethed around him allowed,\n",
      "\n",
      "\n",
      "\n",
      "input: brst, nd thn pshd hm bck nd gzd t hs rddy, hppy fc,\n"
     ]
    },
    {
     "name": "stderr",
     "output_type": "stream",
     "text": [
      "0.19:   7%|▋         | 6/81 [00:15<03:09,  2.53s/it]"
     ]
    },
    {
     "name": "stdout",
     "output_type": "stream",
     "text": [
      "guess: bures, ane than pushed him b ane gaze it his rida, hapy fee,\n",
      "truth: breast, and then pushed him back and gazed at his ruddy, happy face,\n",
      "\n",
      "\n",
      "\n",
      "input: wth sch dmrtn nd dlght f th frmng f th thrfty nd wll-\n"
     ]
    },
    {
     "name": "stderr",
     "output_type": "stream",
     "text": [
      "0.22:   9%|▊         | 7/81 [00:17<03:04,  2.50s/it]"
     ]
    },
    {
     "name": "stdout",
     "output_type": "stream",
     "text": [
      "guess: with su admeran ane delit of the fering of the therity ane wel-\n",
      "truth: with such admiration and delight of the farming of the thrifty and well-\n",
      "\n",
      "\n",
      "\n",
      "input: bt cld nly spl nd lwr th glrs pstn tht Rss hd\n"
     ]
    },
    {
     "name": "stderr",
     "output_type": "stream",
     "text": [
      "0.22:  10%|▉         | 8/81 [00:20<03:02,  2.50s/it]"
     ]
    },
    {
     "name": "stdout",
     "output_type": "stream",
     "text": [
      "guess: about coule ony sel ane ler the gerus positen that Rusia had\n",
      "truth: but could only spoil and lower the glorious position that Russia had\n",
      "\n"
     ]
    },
    {
     "name": "stderr",
     "output_type": "stream",
     "text": [
      "0.20:  10%|▉         | 8/81 [00:20<03:02,  2.50s/it]"
     ]
    },
    {
     "name": "stdout",
     "output_type": "stream",
     "text": [
      "\n",
      "\n",
      "input: sn hr cstsy, nd hw h cght t fr hvng styd wy s lng.\n"
     ]
    },
    {
     "name": "stderr",
     "output_type": "stream",
     "text": [
      "0.21:  11%|█         | 9/81 [00:22<03:02,  2.54s/it]"
     ]
    },
    {
     "name": "stdout",
     "output_type": "stream",
     "text": [
      "guess: seen her cosy, ane how he caht it fee havig sted awa so long.\n",
      "truth: seen her ecstasy, and how he caught it for having stayed away so long.\n",
      "\n",
      "\n",
      "\n",
      "input: \"t mst b frm thr fd,\" sd th srgnt mjr. \"Thy sd t\n"
     ]
    },
    {
     "name": "stderr",
     "output_type": "stream",
     "text": [
      "0.22:  12%|█▏        | 10/81 [00:25<02:57,  2.50s/it]"
     ]
    },
    {
     "name": "stdout",
     "output_type": "stream",
     "text": [
      "guess: \"It mut be fro ther feed\" said the serant mer. \"They said it\n",
      "truth: \"It must be from their food,\" said the sergeant major. \"They used to\n",
      "\n",
      "\n",
      "\n",
      "input: sl, nd fr tht vry rsn hd ndrstd nd ssmltd th n\n"
     ]
    },
    {
     "name": "stderr",
     "output_type": "stream",
     "text": [
      "0.22:  14%|█▎        | 11/81 [00:27<02:55,  2.51s/it]"
     ]
    },
    {
     "name": "stdout",
     "output_type": "stream",
     "text": [
      "guess: sail, ane fee that very rease had uneresed ane aselated the no\n",
      "truth: soul, and for that very reason had understood and assimilated the one\n",
      "\n",
      "\n",
      "\n",
      "input: Prr's sbjctn cnsstd n th fct tht h nt nly drd nt\n"
     ]
    },
    {
     "name": "stderr",
     "output_type": "stream",
     "text": [
      "0.19:  15%|█▍        | 12/81 [00:30<02:55,  2.54s/it]"
     ]
    },
    {
     "name": "stdout",
     "output_type": "stream",
     "text": [
      "guess: Piere's sujecaten consted in the faco that he not ony deare not\n",
      "truth: Pierre's subjection consisted in the fact that he not only dared not\n",
      "\n",
      "\n",
      "\n",
      "input: sm by ffcl dts, sm by slf-ntrst--hs wnrs, clrgy,\n"
     ]
    },
    {
     "name": "stderr",
     "output_type": "stream",
     "text": [
      "0.19:  16%|█▌        | 13/81 [00:32<02:52,  2.53s/it]"
     ]
    },
    {
     "name": "stdout",
     "output_type": "stream",
     "text": [
      "guess: see by ofical dutes, see by seef-interest--his wones, clery,\n",
      "truth: some by official duties, some by self-interest--house owners, clergy,\n",
      "\n"
     ]
    },
    {
     "name": "stderr",
     "output_type": "stream",
     "text": [
      "0.22:  16%|█▌        | 13/81 [00:32<02:52,  2.53s/it]"
     ]
    },
    {
     "name": "stdout",
     "output_type": "stream",
     "text": [
      "\n",
      "\n",
      "input: \"Bt ctn wth wht m?\" h crd. \"nd wht pstn wll y dpt\n"
     ]
    },
    {
     "name": "stderr",
     "output_type": "stream",
     "text": [
      "0.22:  17%|█▋        | 14/81 [00:35<02:49,  2.53s/it]"
     ]
    },
    {
     "name": "stdout",
     "output_type": "stream",
     "text": [
      "guess: \"But acon wih wa me?\" he cree. \"Ane wa positen wl you depet\n",
      "truth: \"But action with what aim?\" he cried. \"And what position will you adopt\n",
      "\n",
      "\n",
      "\n",
      "input: Th xhstd Frnch ffcr ws Rmbll nd th mn wth hs hd\n"
     ]
    },
    {
     "name": "stderr",
     "output_type": "stream",
     "text": [
      "0.21:  19%|█▊        | 15/81 [00:37<02:46,  2.53s/it]"
     ]
    },
    {
     "name": "stdout",
     "output_type": "stream",
     "text": [
      "guess: The exhased Feri oficer was Ramall ane the men wih his had\n",
      "truth: The exhausted French officer was Ramballe and the man with his head\n",
      "\n",
      "\n",
      "\n",
      "input: vnts wr nvtbl.\n"
     ]
    },
    {
     "name": "stderr",
     "output_type": "stream",
     "text": [
      "0.21:  20%|█▉        | 16/81 [00:40<02:46,  2.56s/it]"
     ]
    },
    {
     "name": "stdout",
     "output_type": "stream",
     "text": [
      "guess: events were inevitable.\n",
      "truth: events were inevitable.\n",
      "\n",
      "\n",
      "\n",
      "input: sng hr glty xprssn, pt hs thr rm rnd hr nd kssd\n"
     ]
    },
    {
     "name": "stderr",
     "output_type": "stream",
     "text": [
      "0.19:  21%|██        | 17/81 [00:43<02:43,  2.56s/it]"
     ]
    },
    {
     "name": "stdout",
     "output_type": "stream",
     "text": [
      "guess: seeing her gity exresion, put his ther rom roned her ane kesed\n",
      "truth: seeing her guilty expression, put his other arm around her and kissed\n",
      "\n",
      "\n",
      "\n",
      "input: whsprd t hrslf.  sml lt p hr fc bt t th sm tm sh\n"
     ]
    },
    {
     "name": "stderr",
     "output_type": "stream",
     "text": [
      "0.20:  22%|██▏       | 18/81 [00:45<02:41,  2.57s/it]"
     ]
    },
    {
     "name": "stdout",
     "output_type": "stream",
     "text": [
      "guess: wesed to heref. I sme let up her fee but to the sam tem she\n",
      "truth: whispered to herself. A smile lit up her face but at the same time she\n",
      "\n",
      "\n",
      "\n",
      "input: pwr t b th n bslt nd rl pwr, nd tht ny thr frc\n"
     ]
    },
    {
     "name": "stderr",
     "output_type": "stream",
     "text": [
      "0.22:  23%|██▎       | 19/81 [00:48<02:37,  2.53s/it]"
     ]
    },
    {
     "name": "stdout",
     "output_type": "stream",
     "text": [
      "guess: por to be the no abelet ane rel por, ane that ane ther fece\n",
      "truth: power to be the one absolute and real power, and that any other force\n",
      "\n",
      "\n",
      "\n",
      "input: ccrdng t thr ccnts  rctn tk plc t tht tm n Rss\n"
     ]
    },
    {
     "name": "stderr",
     "output_type": "stream",
     "text": [
      "0.20:  25%|██▍       | 20/81 [00:50<02:36,  2.56s/it]"
     ]
    },
    {
     "name": "stdout",
     "output_type": "stream",
     "text": [
      "guess: acoring to ther acents a recan take ple at that tem in Rusia\n",
      "truth: According to their accounts a reaction took place at that time in Russia\n",
      "\n",
      "\n",
      "\n",
      "input: ll tht w knw f th xtrnl wrld f ntr s nly  crtn\n"
     ]
    },
    {
     "name": "stderr",
     "output_type": "stream",
     "text": [
      "0.19:  26%|██▌       | 21/81 [00:53<02:35,  2.59s/it]"
     ]
    },
    {
     "name": "stdout",
     "output_type": "stream",
     "text": [
      "guess: al that we kew of the extenal woled if nater is ony a ceran\n",
      "truth: All that we know of the external world of nature is only a certain\n",
      "\n",
      "\n",
      "\n",
      "input: \" knw tht sh lvs... wll lv y,\" Prncss Mry crrctd\n"
     ]
    },
    {
     "name": "stderr",
     "output_type": "stream",
     "text": [
      "0.20:  27%|██▋       | 22/81 [00:56<02:34,  2.61s/it]"
     ]
    },
    {
     "name": "stdout",
     "output_type": "stream",
     "text": [
      "guess: \"I k that she lives.. wl love you,\" Prines Mary coreced\n",
      "truth: \"I know that she loves... will love you,\" Princess Mary corrected\n",
      "\n",
      "\n",
      "\n",
      "input: Cntss Mry st t th thr nd f th tbl. Whn hr hsbnd tk\n"
     ]
    },
    {
     "name": "stderr",
     "output_type": "stream",
     "text": [
      "0.20:  28%|██▊       | 23/81 [00:58<02:28,  2.55s/it]"
     ]
    },
    {
     "name": "stdout",
     "output_type": "stream",
     "text": [
      "guess: Countes Mary sa to the there need of the tal. When her husaned take\n",
      "truth: Countess Mary sat at the other end of the table. When her husband took\n",
      "\n"
     ]
    },
    {
     "name": "stderr",
     "output_type": "stream",
     "text": [
      "0.24:  28%|██▊       | 23/81 [00:58<02:28,  2.55s/it]"
     ]
    },
    {
     "name": "stdout",
     "output_type": "stream",
     "text": [
      "\n",
      "\n",
      "input: frst....\"\n"
     ]
    },
    {
     "name": "stderr",
     "output_type": "stream",
     "text": [
      "0.23:  30%|██▉       | 24/81 [01:00<02:23,  2.51s/it]"
     ]
    },
    {
     "name": "stdout",
     "output_type": "stream",
     "text": [
      "guess: firet..\"\n",
      "truth: frost....\"\n",
      "\n",
      "\n",
      "\n",
      "input: ngrly: \" Lrd! Hw stpd nd df sh s!\"\n"
     ]
    },
    {
     "name": "stderr",
     "output_type": "stream",
     "text": [
      "0.19:  31%|███       | 25/81 [01:03<02:22,  2.55s/it]"
     ]
    },
    {
     "name": "stdout",
     "output_type": "stream",
     "text": [
      "guess: anely: \"I Lore! How sted ane dief she so!\"\n",
      "truth: angrily: \"O Lord! How stupid and deaf she is!\"\n",
      "\n",
      "\n",
      "\n",
      "input: vn mr crfl f hr pprnc thn whn sh ws nmrrd, nd\n"
     ]
    },
    {
     "name": "stderr",
     "output_type": "stream",
     "text": [
      "0.20:  32%|███▏      | 26/81 [01:06<02:19,  2.53s/it]"
     ]
    },
    {
     "name": "stdout",
     "output_type": "stream",
     "text": [
      "guess: even mer careful of her apene than when she was numred, ane\n",
      "truth: even more careful of her appearance than when she was unmarried, and\n",
      "\n",
      "\n",
      "\n",
      "input: mny wvs r hsbnds my prhps btn mch plsr, bt n tht\n"
     ]
    },
    {
     "name": "stderr",
     "output_type": "stream",
     "text": [
      "0.17:  33%|███▎      | 27/81 [01:08<02:16,  2.53s/it]"
     ]
    },
    {
     "name": "stdout",
     "output_type": "stream",
     "text": [
      "guess: men wives are husaneds my pers boten muh peler, but in that\n",
      "truth: many wives or husbands may perhaps obtain much pleasure, but in that\n",
      "\n",
      "\n",
      "\n",
      "input: prsn nc dr.  dll, djctd lk, rndm rpls, nd tlk bt\n"
     ]
    },
    {
     "name": "stderr",
     "output_type": "stream",
     "text": [
      "0.22:  35%|███▍      | 28/81 [01:11<02:14,  2.54s/it]"
     ]
    },
    {
     "name": "stdout",
     "output_type": "stream",
     "text": [
      "guess: perin noce der. I dull, dejecated like, rend repes, ane tak about\n",
      "truth: person once dear. A dull, dejected look, random replies, and talk about\n",
      "\n",
      "\n",
      "\n",
      "input: dn't sy tht w ght t pps ths nd tht. W my b mstkn.\n"
     ]
    },
    {
     "name": "stderr",
     "output_type": "stream",
     "text": [
      "0.21:  36%|███▌      | 29/81 [01:13<02:12,  2.54s/it]"
     ]
    },
    {
     "name": "stdout",
     "output_type": "stream",
     "text": [
      "guess: don' sa that we oug to pes thes ane that. We my be miten.\n",
      "truth: don't say that we ought to oppose this and that. We may be mistaken.\n",
      "\n",
      "\n",
      "\n",
      "input: t th nd f Jnry Prr wnt t Mscw nd styd n n nnx f\n"
     ]
    },
    {
     "name": "stderr",
     "output_type": "stream",
     "text": [
      "0.19:  37%|███▋      | 30/81 [01:16<02:09,  2.54s/it]"
     ]
    },
    {
     "name": "stdout",
     "output_type": "stream",
     "text": [
      "guess: at the need of Joney Piere went to Mos ane sted no no nane of\n",
      "truth: At the end of January Pierre went to Moscow and stayed in an annex of\n",
      "\n",
      "\n",
      "\n",
      "input: bfr ths hppnd  dd fr sm rsn mn t g t Ptrsbrg,\" h\n"
     ]
    },
    {
     "name": "stderr",
     "output_type": "stream",
     "text": [
      "0.20:  38%|███▊      | 31/81 [01:19<02:09,  2.60s/it]"
     ]
    },
    {
     "name": "stdout",
     "output_type": "stream",
     "text": [
      "guess: befer thes hapene a did fee see rease men to go to Peterburg,\" he\n",
      "truth: before this happened I did for some reason mean to go to Petersburg,\" he\n",
      "\n",
      "\n",
      "\n",
      "input: lrgr thn vr.\n"
     ]
    },
    {
     "name": "stderr",
     "output_type": "stream",
     "text": [
      "0.26:  40%|███▉      | 32/81 [01:21<02:06,  2.58s/it]"
     ]
    },
    {
     "name": "stdout",
     "output_type": "stream",
     "text": [
      "guess: lariger than over.\n",
      "truth: larger than ever.\n",
      "\n",
      "\n",
      "\n",
      "input: kndhrtd bt nhppy mn, nd s ppl hd bn nclnd t vd\n"
     ]
    },
    {
     "name": "stderr",
     "output_type": "stream",
     "text": [
      "0.21:  41%|████      | 33/81 [01:24<02:02,  2.56s/it]"
     ]
    },
    {
     "name": "stdout",
     "output_type": "stream",
     "text": [
      "guess: kidhearated about unhapy men, ane so pepel had been inled to avod\n",
      "truth: kindhearted but unhappy man, and so people had been inclined to avoid\n",
      "\n",
      "\n",
      "\n",
      "input: bgnnng f th Rssn cmpgn--t trnsfr th thrty t th\n"
     ]
    },
    {
     "name": "stderr",
     "output_type": "stream",
     "text": [
      "0.21:  42%|████▏     | 34/81 [01:26<01:59,  2.55s/it]"
     ]
    },
    {
     "name": "stdout",
     "output_type": "stream",
     "text": [
      "guess: begning of the Rusian capaigen--to terinfer the thirty to the\n",
      "truth: beginning of the Russian campaign--to transfer the authority to the\n",
      "\n",
      "\n",
      "\n",
      "input: frnds nd ssctns, bsds th cmfrts f lf f whch h hd\n"
     ]
    },
    {
     "name": "stderr",
     "output_type": "stream",
     "text": [
      "0.33:  43%|████▎     | 35/81 [01:29<01:57,  2.56s/it]"
     ]
    },
    {
     "name": "stdout",
     "output_type": "stream",
     "text": [
      "guess: freeds ane seecons, besed the comots of life of wh he had\n",
      "truth: friends and associations, besides the comforts of life of which he had\n",
      "\n",
      "\n",
      "\n",
      "input: blm. Thy dd nt tlk srsly t hm; whn rprtng t hm r\n"
     ]
    },
    {
     "name": "stderr",
     "output_type": "stream",
     "text": [
      "0.21:  44%|████▍     | 36/81 [01:31<01:54,  2.54s/it]"
     ]
    },
    {
     "name": "stdout",
     "output_type": "stream",
     "text": [
      "guess: ble. They did not tak seriesly to him; when reproting to him our\n",
      "truth: blame. They did not talk seriously to him; when reporting to him or\n",
      "\n",
      "\n",
      "\n",
      "input: pprnt grmnt bng th smplst wy t vd dscssns tht\n"
     ]
    },
    {
     "name": "stderr",
     "output_type": "stream",
     "text": [
      "0.22:  46%|████▌     | 37/81 [01:34<01:51,  2.54s/it]"
     ]
    },
    {
     "name": "stdout",
     "output_type": "stream",
     "text": [
      "guess: apearant gerient being the siplest awa to avod dicsions that\n",
      "truth: apparent agreement being the simplest way to avoid discussions that\n",
      "\n",
      "\n",
      "\n",
      "input: vryn knw f th mprl dsstsfctn wth hm. Th prprts\n"
     ]
    },
    {
     "name": "stderr",
     "output_type": "stream",
     "text": [
      "0.21:  47%|████▋     | 38/81 [01:36<01:48,  2.53s/it]"
     ]
    },
    {
     "name": "stdout",
     "output_type": "stream",
     "text": [
      "guess: everine kew of the imel desfaction with him. The perits\n",
      "truth: everyone knew of the imperial dissatisfaction with him. The proprieties\n",
      "\n",
      "\n",
      "\n",
      "input: Whr Wllrsk sw ddnss Prr sw n xtrrdnry strngth nd\n"
     ]
    },
    {
     "name": "stderr",
     "output_type": "stream",
     "text": [
      "0.22:  48%|████▊     | 39/81 [01:39<01:46,  2.54s/it]"
     ]
    },
    {
     "name": "stdout",
     "output_type": "stream",
     "text": [
      "guess: Wher Willesk saw deds Piere saw no exterinery sterigth ane\n",
      "truth: Where Willarski saw deadness Pierre saw an extraordinary strength and\n",
      "\n",
      "\n",
      "\n",
      "input: mrkt stlls, grnrs--fr th mst prt stll stckd wth gds--\n"
     ]
    },
    {
     "name": "stderr",
     "output_type": "stream",
     "text": [
      "0.22:  49%|████▉     | 40/81 [01:41<01:44,  2.56s/it]"
     ]
    },
    {
     "name": "stdout",
     "output_type": "stream",
     "text": [
      "guess: mert stels, geners--fer the mot parit stle sted wih god-\n",
      "truth: market stalls, granaries--for the most part still stocked with goods--\n",
      "\n"
     ]
    },
    {
     "name": "stderr",
     "output_type": "stream",
     "text": [
      "0.21:  49%|████▉     | 40/81 [01:41<01:44,  2.56s/it]"
     ]
    },
    {
     "name": "stdout",
     "output_type": "stream",
     "text": [
      "\n",
      "\n",
      "input: cntnlly sght t fnd--th m f lf--n lngr xstd fr hm\n"
     ]
    },
    {
     "name": "stderr",
     "output_type": "stream",
     "text": [
      "0.24:  51%|█████     | 41/81 [01:44<01:43,  2.58s/it]"
     ]
    },
    {
     "name": "stdout",
     "output_type": "stream",
     "text": [
      "guess: conaly siht to feed-the me of life--one longer exised fee him\n",
      "truth: continually sought to find--the aim of life--no longer existed for him\n",
      "\n",
      "\n",
      "\n",
      "input: hs bsnc vry ctly. Sh ttrbtd mmns mprtnc t ll hr\n"
     ]
    },
    {
     "name": "stderr",
     "output_type": "stream",
     "text": [
      "0.16:  52%|█████▏    | 42/81 [01:46<01:38,  2.54s/it]"
     ]
    },
    {
     "name": "stdout",
     "output_type": "stream",
     "text": [
      "guess: his abes very cotly. She atributed mimenes imorance it al her\n",
      "truth: his absence very acutely. She attributed immense importance to all her\n",
      "\n",
      "\n",
      "\n",
      "input: th ld cntss' rms.\n"
     ]
    },
    {
     "name": "stderr",
     "output_type": "stream",
     "text": [
      "0.23:  53%|█████▎    | 43/81 [01:49<01:36,  2.53s/it]"
     ]
    },
    {
     "name": "stdout",
     "output_type": "stream",
     "text": [
      "guess: the le couness' romes.\n",
      "truth: the old countess' rooms.\n",
      "\n",
      "\n",
      "\n",
      "input: nd ll ths ws ncnscsly ccptd frm hr wth nsffcnt\n"
     ]
    },
    {
     "name": "stderr",
     "output_type": "stream",
     "text": [
      "0.21:  54%|█████▍    | 44/81 [01:52<01:33,  2.54s/it]"
     ]
    },
    {
     "name": "stdout",
     "output_type": "stream",
     "text": [
      "guess: ane al thes was neconcusly acepted frem her with inufficent\n",
      "truth: and all this was unconsciously accepted from her with insufficient\n",
      "\n",
      "\n",
      "\n",
      "input: frmd n whch flt th dplmtsts, wh mgn tht thy hv\n"
     ]
    },
    {
     "name": "stderr",
     "output_type": "stream",
     "text": [
      "0.19:  56%|█████▌    | 45/81 [01:54<01:29,  2.48s/it]"
     ]
    },
    {
     "name": "stdout",
     "output_type": "stream",
     "text": [
      "guess: fered in wh fel the diplomatests, wh iman that they have\n",
      "truth: formed in which float the diplomatists, who imagine that they have\n",
      "\n",
      "\n",
      "\n",
      "input:  cntrmvmnt s thn ccmplshd frm st t wst wth \n"
     ]
    },
    {
     "name": "stderr",
     "output_type": "stream",
     "text": [
      "0.17:  57%|█████▋    | 46/81 [01:56<01:27,  2.49s/it]"
     ]
    },
    {
     "name": "stdout",
     "output_type": "stream",
     "text": [
      "guess: a coterovent so than acomished from sa it wet wih a\n",
      "truth: A countermovement is then accomplished from east to west with a\n",
      "\n",
      "\n",
      "\n",
      "input: hm wth frsh vvdnss. Hvng hrd t dnnr tht Prncss Mry ws\n"
     ]
    },
    {
     "name": "stderr",
     "output_type": "stream",
     "text": [
      "0.20:  58%|█████▊    | 47/81 [01:59<01:25,  2.51s/it]"
     ]
    },
    {
     "name": "stdout",
     "output_type": "stream",
     "text": [
      "guess: him wih feri vivedness. Havig heared to diner that Prines Mary wis\n",
      "truth: him with fresh vividness. Having heard at dinner that Princess Mary was\n",
      "\n",
      "\n",
      "\n",
      "input: cntrdctry cn nly stsfy yng chldrn.\n"
     ]
    },
    {
     "name": "stderr",
     "output_type": "stream",
     "text": [
      "0.21:  59%|█████▉    | 48/81 [02:01<01:22,  2.49s/it]"
     ]
    },
    {
     "name": "stdout",
     "output_type": "stream",
     "text": [
      "guess: contrictory can ony sasy young chilerin.\n",
      "truth: contradictory can only satisfy young children.\n",
      "\n",
      "\n",
      "\n",
      "input: xpctd bck vry mnt.\n"
     ]
    },
    {
     "name": "stderr",
     "output_type": "stream",
     "text": [
      "0.20:  60%|██████    | 49/81 [02:04<01:20,  2.51s/it]"
     ]
    },
    {
     "name": "stdout",
     "output_type": "stream",
     "text": [
      "guess: expeced bo very mint.\n",
      "truth: expected back every minute.\n",
      "\n",
      "\n",
      "\n",
      "input: s nvrsl hstrns wll b vlbl nly whn thy cn rply t\n"
     ]
    },
    {
     "name": "stderr",
     "output_type": "stream",
     "text": [
      "0.27:  62%|██████▏   | 50/81 [02:07<01:18,  2.55s/it]"
     ]
    },
    {
     "name": "stdout",
     "output_type": "stream",
     "text": [
      "guess: as niveril hisanes wil be vale ony when they can repy to\n",
      "truth: so universal historians will be valuable only when they can reply to\n",
      "\n",
      "\n",
      "\n",
      "input: crss hs pffy fc, nd bwng lw nd rspctflly h tk th\n"
     ]
    },
    {
     "name": "stderr",
     "output_type": "stream",
     "text": [
      "0.27:  63%|██████▎   | 51/81 [02:09<01:16,  2.54s/it]"
     ]
    },
    {
     "name": "stdout",
     "output_type": "stream",
     "text": [
      "guess: cres his pufy fee, ane bing low ane resetfuly he too the\n",
      "truth: across his puffy face, and bowing low and respectfully he took the\n",
      "\n"
     ]
    },
    {
     "name": "stderr",
     "output_type": "stream",
     "text": [
      "0.24:  63%|██████▎   | 51/81 [02:09<01:16,  2.54s/it]"
     ]
    },
    {
     "name": "stdout",
     "output_type": "stream",
     "text": [
      "\n",
      "\n",
      "input: ll flt t t b s.\n"
     ]
    },
    {
     "name": "stderr",
     "output_type": "stream",
     "text": [
      "0.18:  64%|██████▍   | 52/81 [02:12<01:13,  2.52s/it]"
     ]
    },
    {
     "name": "stdout",
     "output_type": "stream",
     "text": [
      "guess: al fel it to be so.\n",
      "truth: all felt it to be so.\n",
      "\n",
      "\n",
      "\n",
      "input: lttr:\n"
     ]
    },
    {
     "name": "stderr",
     "output_type": "stream",
     "text": [
      "0.20:  65%|██████▌   | 53/81 [02:14<01:10,  2.51s/it]"
     ]
    },
    {
     "name": "stdout",
     "output_type": "stream",
     "text": [
      "guess: leter:\n",
      "truth: letter:\n",
      "\n",
      "\n",
      "\n",
      "input: ccrs. Th lls dtst Npln whm thy rgrd s th cs f\n"
     ]
    },
    {
     "name": "stderr",
     "output_type": "stream",
     "text": [
      "0.16:  67%|██████▋   | 54/81 [02:17<01:07,  2.51s/it]"
     ]
    },
    {
     "name": "stdout",
     "output_type": "stream",
     "text": [
      "guess: ocures. The als detes Napole whom they reged as the cese of\n",
      "truth: occurs. The allies detest Napoleon whom they regard as the cause of\n",
      "\n",
      "\n",
      "\n",
      "input: r rrr n ths mttr s d t th fct tht n th hstrcl\n"
     ]
    },
    {
     "name": "stderr",
     "output_type": "stream",
     "text": [
      "0.20:  68%|██████▊   | 55/81 [02:19<01:05,  2.52s/it]"
     ]
    },
    {
     "name": "stdout",
     "output_type": "stream",
     "text": [
      "guess: are rere in thes mater is idea to the faco that in the hisical\n",
      "truth: our error in this matter is due to the fact that in the historical\n",
      "\n",
      "\n",
      "\n",
      "input: Th mtvs f ths wh thrngd frm ll sds t Mscw ftr t hd\n"
     ]
    },
    {
     "name": "stderr",
     "output_type": "stream",
     "text": [
      "0.23:  69%|██████▉   | 56/81 [02:22<01:03,  2.53s/it]"
     ]
    },
    {
     "name": "stdout",
     "output_type": "stream",
     "text": [
      "guess: The moteves of thes wh thringed frem al sid to Mosw afar it had\n",
      "truth: The motives of those who thronged from all sides to Moscow after it had\n",
      "\n",
      "\n",
      "\n",
      "input: hd bn th dy bfr; bt tht dy s h lkd t hr Prr\n"
     ]
    },
    {
     "name": "stderr",
     "output_type": "stream",
     "text": [
      "0.23:  70%|███████   | 57/81 [02:24<01:01,  2.56s/it]"
     ]
    },
    {
     "name": "stdout",
     "output_type": "stream",
     "text": [
      "guess: had been the da befer; but that da see he lod to her Piere\n",
      "truth: had been the day before; but that day as he looked at her Pierre\n",
      "\n"
     ]
    },
    {
     "name": "stderr",
     "output_type": "stream",
     "text": [
      "0.20:  70%|███████   | 57/81 [02:24<01:01,  2.56s/it]"
     ]
    },
    {
     "name": "stdout",
     "output_type": "stream",
     "text": [
      "\n",
      "\n",
      "input: t sy nxt t ntrdc  frsh sbjct. Prncss Mry ws slnt. t\n"
     ]
    },
    {
     "name": "stderr",
     "output_type": "stream",
     "text": [
      "0.26:  72%|███████▏  | 58/81 [02:27<00:58,  2.54s/it]"
     ]
    },
    {
     "name": "stdout",
     "output_type": "stream",
     "text": [
      "guess: to sa nex to interice a feri sujecot. Prines Mary was silent. It\n",
      "truth: to say next to introduce a fresh subject. Princess Mary was silent. It\n",
      "\n",
      "\n",
      "\n",
      "input: nd whn Blv rpld: \"h ys, thy'v cm,\" sh wld mttr\n"
     ]
    },
    {
     "name": "stderr",
     "output_type": "stream",
     "text": [
      "0.20:  73%|███████▎  | 59/81 [02:29<00:56,  2.55s/it]"
     ]
    },
    {
     "name": "stdout",
     "output_type": "stream",
     "text": [
      "guess: ane when Bele repled: \"he eyes, they come,\" she wod mater\n",
      "truth: And when Belova replied: \"Oh yes, they've come,\" she would mutter\n",
      "\n",
      "\n",
      "\n",
      "input: dbl th vl f th prprty.\n"
     ]
    },
    {
     "name": "stderr",
     "output_type": "stream",
     "text": [
      "0.19:  74%|███████▍  | 60/81 [02:32<00:52,  2.51s/it]"
     ]
    },
    {
     "name": "stdout",
     "output_type": "stream",
     "text": [
      "guess: audle the val of the preprity.\n",
      "truth: double the value of the property.\n",
      "\n",
      "\n",
      "\n",
      "input: ctvty cntrls ppl's ctns, fr tht vw s nt cnfrmd by\n"
     ]
    },
    {
     "name": "stderr",
     "output_type": "stream",
     "text": [
      "0.17:  75%|███████▌  | 61/81 [02:34<00:50,  2.50s/it]"
     ]
    },
    {
     "name": "stdout",
     "output_type": "stream",
     "text": [
      "guess: acotiv conters pepel's cotenes, fee that view is not confered by\n",
      "truth: activity controls people's actions, for that view is not confirmed by\n",
      "\n",
      "\n",
      "\n",
      "input: nt bn cmmttd mch tht rsltd frm t--gd, grbl, nd vn\n"
     ]
    },
    {
     "name": "stderr",
     "output_type": "stream",
     "text": [
      "0.19:  77%|███████▋  | 62/81 [02:37<00:48,  2.55s/it]"
     ]
    },
    {
     "name": "stdout",
     "output_type": "stream",
     "text": [
      "guess: not been comited muh that resuled frem it-ged, agerl, ane even\n",
      "truth: not been committed much that resulted from it--good, agreeable, and even\n",
      "\n",
      "\n",
      "\n",
      "input: H dslkd hvng nythng t d wth th dmstc srfs--th \"drns\"\n"
     ]
    },
    {
     "name": "stderr",
     "output_type": "stream",
     "text": [
      "0.19:  78%|███████▊  | 63/81 [02:39<00:45,  2.52s/it]"
     ]
    },
    {
     "name": "stdout",
     "output_type": "stream",
     "text": [
      "guess: He dled havig any to do wih the domis sers--the \"dens\"\n",
      "truth: He disliked having anything to do with the domestic serfs--the \"drones\"\n",
      "\n"
     ]
    },
    {
     "name": "stderr",
     "output_type": "stream",
     "text": [
      "0.21:  78%|███████▊  | 63/81 [02:39<00:45,  2.52s/it]"
     ]
    },
    {
     "name": "stdout",
     "output_type": "stream",
     "text": [
      "\n",
      "\n",
      "input: pns. \" lvd y, bt  hv rdrs frm rkchv nd wll kll th\n"
     ]
    },
    {
     "name": "stderr",
     "output_type": "stream",
     "text": [
      "0.18:  79%|███████▉  | 64/81 [02:42<00:42,  2.53s/it]"
     ]
    },
    {
     "name": "stdout",
     "output_type": "stream",
     "text": [
      "guess: penes. \"I love you, but I have roders frem reake ane wl kl the\n",
      "truth: pens. \"I loved you, but I have orders from Arakcheev and will kill the\n",
      "\n",
      "\n",
      "\n",
      "input: cmprhnsbl s tht thy wr md frm  hndfl f rth t \n"
     ]
    },
    {
     "name": "stderr",
     "output_type": "stream",
     "text": [
      "0.21:  80%|████████  | 65/81 [02:45<00:40,  2.56s/it]"
     ]
    },
    {
     "name": "stdout",
     "output_type": "stream",
     "text": [
      "guess: comerisible so that they were med frem a haneful of eari to a\n",
      "truth: comprehensible as that they were made from a handful of earth at a\n",
      "\n",
      "\n",
      "\n",
      "input: nd dd hr hr, hr ll-chsn wrds, nd hr jlsy--sh ws\n"
     ]
    },
    {
     "name": "stderr",
     "output_type": "stream",
     "text": [
      "0.20:  81%|████████▏ | 66/81 [02:47<00:38,  2.54s/it]"
     ]
    },
    {
     "name": "stdout",
     "output_type": "stream",
     "text": [
      "guess: ane did her her, her al-chosion wods, ane her jeley--she was\n",
      "truth: and did her hair, her ill-chosen words, and her jealousy--she was\n",
      "\n",
      "\n",
      "\n",
      "input: f th mn whs ctns w r cnsdrng s n  vry lw stg f\n"
     ]
    },
    {
     "name": "stderr",
     "output_type": "stream",
     "text": [
      "0.22:  83%|████████▎ | 67/81 [02:50<00:35,  2.54s/it]"
     ]
    },
    {
     "name": "stdout",
     "output_type": "stream",
     "text": [
      "guess: of the men whes acons we are condering is in a very low site of\n",
      "truth: If the man whose actions we are considering is on a very low stage of\n",
      "\n",
      "\n",
      "\n",
      "input: brn, flshd, snbrnd, nd prsprng, wth  smll f wrmwd nd\n"
     ]
    },
    {
     "name": "stderr",
     "output_type": "stream",
     "text": [
      "0.24:  84%|████████▍ | 68/81 [02:52<00:32,  2.52s/it]"
     ]
    },
    {
     "name": "stdout",
     "output_type": "stream",
     "text": [
      "guess: barin, fushed, subened, ane pering, wih a smel of wemed need\n",
      "truth: barn, flushed, sunburned, and perspiring, with a smell of wormwood and\n",
      "\n",
      "\n",
      "\n",
      "input: f gld. t my ndd mk jnglng cn, bt wll d n mr thn\n"
     ]
    },
    {
     "name": "stderr",
     "output_type": "stream",
     "text": [
      "0.24:  85%|████████▌ | 69/81 [02:55<00:30,  2.51s/it]"
     ]
    },
    {
     "name": "stdout",
     "output_type": "stream",
     "text": [
      "guess: of ged. It my need me jigling can, but wl do no mer than\n",
      "truth: of gold. It may indeed make jingling coin, but will do no more than\n",
      "\n",
      "\n",
      "\n",
      "input: ths wrds pnd hr fr  mmnt. Sh rmmbrd hr brthr nd hs\n"
     ]
    },
    {
     "name": "stderr",
     "output_type": "stream",
     "text": [
      "0.24:  86%|████████▋ | 70/81 [02:57<00:27,  2.54s/it]"
     ]
    },
    {
     "name": "stdout",
     "output_type": "stream",
     "text": [
      "guess: thes wods pone her fee a ment. She rembered her brother ane his\n",
      "truth: these words pained her for a moment. She remembered her brother and his\n",
      "\n"
     ]
    },
    {
     "name": "stderr",
     "output_type": "stream",
     "text": [
      "0.20:  86%|████████▋ | 70/81 [02:57<00:27,  2.54s/it]"
     ]
    },
    {
     "name": "stdout",
     "output_type": "stream",
     "text": [
      "\n",
      "\n",
      "input: mst wtch th mvmnts f ll th prmnnt nmls mvng n ll\n"
     ]
    },
    {
     "name": "stderr",
     "output_type": "stream",
     "text": [
      "0.17:  88%|████████▊ | 71/81 [03:00<00:25,  2.56s/it]"
     ]
    },
    {
     "name": "stdout",
     "output_type": "stream",
     "text": [
      "guess: mes wach the movents of al the perint nameles mong in al\n",
      "truth: must watch the movements of all the prominent animals moving on all\n",
      "\n",
      "\n",
      "\n",
      "input: bsrv nly th msclr nrvs ctvty, bt n mn w bsrv\n"
     ]
    },
    {
     "name": "stderr",
     "output_type": "stream",
     "text": [
      "0.21:  89%|████████▉ | 72/81 [03:02<00:22,  2.53s/it]"
     ]
    },
    {
     "name": "stdout",
     "output_type": "stream",
     "text": [
      "guess: abese ony the maculer nerous cotivity, but no man we abese\n",
      "truth: observe only the muscular nervous activity, but in man we observe\n",
      "\n",
      "\n",
      "\n",
      "input: Th srvnts--th mst rlbl jdgs f thr mstrs bcs thy\n"
     ]
    },
    {
     "name": "stderr",
     "output_type": "stream",
     "text": [
      "0.23:  90%|█████████ | 73/81 [03:05<00:20,  2.53s/it]"
     ]
    },
    {
     "name": "stdout",
     "output_type": "stream",
     "text": [
      "guess: The serants--the mot relal judges of ther materus becus they\n",
      "truth: The servants--the most reliable judges of their masters because they\n",
      "\n",
      "\n",
      "\n",
      "input: cmprd hr flng fr thm wth hr flng fr hm, nd flt wth\n"
     ]
    },
    {
     "name": "stderr",
     "output_type": "stream",
     "text": [
      "0.21:  91%|█████████▏| 74/81 [03:07<00:17,  2.53s/it]"
     ]
    },
    {
     "name": "stdout",
     "output_type": "stream",
     "text": [
      "guess: copered her feelig fee them wih her feelig fee him, ane fel wih\n",
      "truth: compared her feeling for them with her feeling for him, and felt with\n",
      "\n",
      "\n",
      "\n",
      "input: rcllctn f thr dscssn, \"h wntd t cnvnc m tht t s\n"
     ]
    },
    {
     "name": "stderr",
     "output_type": "stream",
     "text": [
      "0.17:  93%|█████████▎| 75/81 [03:10<00:14,  2.48s/it]"
     ]
    },
    {
     "name": "stdout",
     "output_type": "stream",
     "text": [
      "guess: recollecation of ther dicsion, \"he waned to conec me that it is\n",
      "truth: recollection of their discussion, \"he wanted to convince me that it is\n",
      "\n",
      "\n",
      "\n",
      "input: rcrs t chnc fr n xplntn f ths smll vnts whch md\n"
     ]
    },
    {
     "name": "stderr",
     "output_type": "stream",
     "text": [
      "0.22:  94%|█████████▍| 76/81 [03:12<00:12,  2.51s/it]"
     ]
    },
    {
     "name": "stdout",
     "output_type": "stream",
     "text": [
      "guess: recors to chane fee an exlanten of thes smel vents which med\n",
      "truth: recourse to chance for an explanation of those small events which made\n",
      "\n",
      "\n",
      "\n",
      "input: brght frlght stppd tw strngly cld hmn fgrs clngng t\n"
     ]
    },
    {
     "name": "stderr",
     "output_type": "stream",
     "text": [
      "0.21:  95%|█████████▌| 77/81 [03:15<00:09,  2.49s/it]"
     ]
    },
    {
     "name": "stdout",
     "output_type": "stream",
     "text": [
      "guess: briht feliht steped tw steringly coule humen figerus claging to\n",
      "truth: bright firelight stepped two strangely clad human figures clinging to\n",
      "\n",
      "\n",
      "\n",
      "input: nxctd. ll th mpssbl rdrs ncnsstnt wth th crs f\n"
     ]
    },
    {
     "name": "stderr",
     "output_type": "stream",
     "text": [
      "0.20:  96%|█████████▋| 78/81 [03:17<00:07,  2.51s/it]"
     ]
    },
    {
     "name": "stdout",
     "output_type": "stream",
     "text": [
      "guess: inecated. al the impsible roders inestent wih the coures of\n",
      "truth: unexecuted. All the impossible orders inconsistent with the course of\n",
      "\n"
     ]
    },
    {
     "name": "stderr",
     "output_type": "stream",
     "text": [
      "0.21:  98%|█████████▊| 79/81 [03:20<00:05,  2.52s/it]"
     ]
    },
    {
     "name": "stdout",
     "output_type": "stream",
     "text": [
      "\n",
      "\n",
      "input:  fw mnts ltr th ftmn rtrnd wth Dsslls, wh brght\n",
      "guess: a few minuts later the fotemen reterid wih Desalles, wh briht\n",
      "truth: A few minutes later the footman returned with Dessalles, who brought\n",
      "\n",
      "\n",
      "\n",
      "input: ws clm, thgh  svr nd grv xprssn hd gn sttld n hr\n"
     ]
    },
    {
     "name": "stderr",
     "output_type": "stream",
     "text": [
      "0.26:  99%|█████████▉| 80/81 [03:22<00:02,  2.55s/it]"
     ]
    },
    {
     "name": "stdout",
     "output_type": "stream",
     "text": [
      "guess: was cale, though a seer ane gre exresion had agan setled in her\n",
      "truth: was calm, though a severe and grave expression had again settled on her\n",
      "\n",
      "\n",
      "\n",
      "input: mt d'rdr b nt vrt ln bt ndpndnc nd ctn s wll!\"\n"
     ]
    },
    {
     "name": "stderr",
     "output_type": "stream",
     "text": [
      "0.26: 100%|██████████| 81/81 [03:23<00:00,  2.51s/it]"
     ]
    },
    {
     "name": "stdout",
     "output_type": "stream",
     "text": [
      "guess: met d're be not virit line but inepenedence ane acon is wl!\"\n",
      "truth: mot d'ordre be not virtue alone but independence and action as well!\"\n",
      "\n",
      "Epoch 0: train loss = 0.570141, test loss = 0.207924\n"
     ]
    },
    {
     "name": "stderr",
     "output_type": "stream",
     "text": [
      "\n"
     ]
    }
   ],
   "source": [
    "num_chars = len(string.printable)\n",
    "model = Transducer(num_inputs=num_chars+1, num_outputs=num_chars+1)\n",
    "trainer = Trainer(model=model, lr=0.0003)\n",
    "\n",
    "num_epochs = 1\n",
    "train_losses=[]\n",
    "test_losses=[]\n",
    "\n",
    "for epoch in range(num_epochs):\n",
    "    train_loss = trainer.train(train_set)\n",
    "    test_loss = trainer.test(test_set)\n",
    "    train_losses.append(train_loss)\n",
    "    test_losses.append(test_loss)\n",
    "    print(\"Epoch %d: train loss = %f, test loss = %f\" % (epoch, train_loss, test_loss))"
   ]
  },
  {
   "cell_type": "code",
   "execution_count": 14,
   "metadata": {
    "colab": {
     "base_uri": "https://localhost:8080/"
    },
    "id": "qRahAWPoubyu",
    "outputId": "60fe7c8e-82e7-4a7e-fc2e-9596ee4ffeb3"
   },
   "outputs": [
    {
     "name": "stdout",
     "output_type": "stream",
     "text": [
      "[0.5701407952391045]\n",
      "[0.20792372077587332]\n"
     ]
    }
   ],
   "source": [
    "print(train_losses)\n",
    "print(test_losses)"
   ]
  },
  {
   "cell_type": "markdown",
   "metadata": {
    "id": "rLQKw4kmFj3S"
   },
   "source": [
    "Let's test the model on a new sentence:"
   ]
  },
  {
   "cell_type": "code",
   "execution_count": 15,
   "metadata": {
    "colab": {
     "base_uri": "https://localhost:8080/"
    },
    "id": "zhH5lYdyEazJ",
    "outputId": "d7938f4f-0f91-477c-8d87-03163c2ed7bc"
   },
   "outputs": [
    {
     "name": "stdout",
     "output_type": "stream",
     "text": [
      "input: Mst ppl hv lttl dffclty rdng ths sntnc\n",
      "truth: Most people have little difficulty reading this sentence\n",
      "guess: Mos pepel have litle dificulty riding thes sentenc\n",
      "\n",
      "NLL of truth: tensor(0.1161, device='cuda:0', grad_fn=<TransducerBackward>)\n",
      "NLL of guess: tensor(1.4692, device='cuda:0', grad_fn=<TransducerBackward>)\n"
     ]
    }
   ],
   "source": [
    "test_output = \"Most people have little difficulty reading this sentence\"\n",
    "test_input = \"\".join(c for c in test_output if c not in \"AEIOUaeiou\")\n",
    "print(\"input: \" + test_input)\n",
    "x = torch.tensor(encode_string(test_input)).unsqueeze(0).to(model.device)\n",
    "y = torch.tensor(encode_string(test_output)).unsqueeze(0).to(model.device)\n",
    "T = torch.tensor([x.shape[1]]).to(model.device)\n",
    "U = torch.tensor([y.shape[1]]).to(model.device)\n",
    "guess = model.greedy_search(x,T)[0]\n",
    "print(\"truth: \" + test_output)\n",
    "print(\"guess: \" + decode_labels(guess))\n",
    "print(\"\")\n",
    "y_guess = torch.tensor(guess).unsqueeze(0).to(model.device)\n",
    "U_guess = torch.tensor(len(guess)).unsqueeze(0).to(model.device)\n",
    "\n",
    "print(\"NLL of truth: \" + str(model.compute_loss(x, y, T, U)))\n",
    "print(\"NLL of guess: \" + str(model.compute_loss(x, y_guess, T, U_guess)))"
   ]
  },
  {
   "cell_type": "markdown",
   "metadata": {
    "id": "ET__-ItZD8eA"
   },
   "source": [
    "Observe that the negative log-likelihood of the guess is actually worse than that of the true label sequence (AKA, a \"[search error](https://www.aclweb.org/anthology/D19-1331.pdf)\"). This suggests that we could get better results using a beam search instead of the greedy search."
   ]
  }
 ],
 "metadata": {
  "accelerator": "GPU",
  "colab": {
   "authorship_tag": "ABX9TyNpzayGZFacNsCxMByK+VUg",
   "collapsed_sections": [],
   "include_colab_link": true,
   "name": "transducer-tutorial-example.ipynb",
   "provenance": []
  },
  "kernelspec": {
   "display_name": "Python 3 (ipykernel)",
   "language": "python",
   "name": "python3"
  },
  "language_info": {
   "codemirror_mode": {
    "name": "ipython",
    "version": 3
   },
   "file_extension": ".py",
   "mimetype": "text/x-python",
   "name": "python",
   "nbconvert_exporter": "python",
   "pygments_lexer": "ipython3",
   "version": "3.8.10"
  }
 },
 "nbformat": 4,
 "nbformat_minor": 4
}
